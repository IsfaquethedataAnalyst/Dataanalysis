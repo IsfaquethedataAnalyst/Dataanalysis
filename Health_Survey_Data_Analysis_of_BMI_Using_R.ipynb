{
  "nbformat": 4,
  "nbformat_minor": 0,
  "metadata": {
    "colab": {
      "provenance": [],
      "authorship_tag": "ABX9TyNjFFRE9Ss04V4Ks2y9n5Dz",
      "include_colab_link": true
    },
    "kernelspec": {
      "name": "ir",
      "display_name": "R"
    },
    "language_info": {
      "name": "R"
    }
  },
  "cells": [
    {
      "cell_type": "markdown",
      "metadata": {
        "id": "view-in-github",
        "colab_type": "text"
      },
      "source": [
        "<a href=\"https://colab.research.google.com/github/IsfaquethedataAnalyst/Dataanalysis/blob/main/Health_Survey_Data_Analysis_of_BMI_Using_R.ipynb\" target=\"_parent\"><img src=\"https://colab.research.google.com/assets/colab-badge.svg\" alt=\"Open In Colab\"/></a>"
      ]
    },
    {
      "cell_type": "code",
      "execution_count": 3,
      "metadata": {
        "colab": {
          "base_uri": "https://localhost:8080/"
        },
        "id": "8v0cXzSVvBVA",
        "outputId": "e61642fd-8c4b-408a-aecf-2a23c15dec8b"
      },
      "outputs": [
        {
          "output_type": "stream",
          "name": "stderr",
          "text": [
            "Installing package into ‘/usr/local/lib/R/site-library’\n",
            "(as ‘lib’ is unspecified)\n",
            "\n"
          ]
        }
      ],
      "source": [
        "install.packages(\"NHANES\")"
      ]
    },
    {
      "cell_type": "code",
      "source": [
        "library(NHANES)\n",
        "library(dplyr)"
      ],
      "metadata": {
        "colab": {
          "base_uri": "https://localhost:8080/"
        },
        "id": "BoITEJC8vOPh",
        "outputId": "d6ddb5e0-d9e5-493d-b873-de419febfd26"
      },
      "execution_count": 4,
      "outputs": [
        {
          "output_type": "stream",
          "name": "stderr",
          "text": [
            "\n",
            "Attaching package: ‘dplyr’\n",
            "\n",
            "\n",
            "The following objects are masked from ‘package:stats’:\n",
            "\n",
            "    filter, lag\n",
            "\n",
            "\n",
            "The following objects are masked from ‘package:base’:\n",
            "\n",
            "    intersect, setdiff, setequal, union\n",
            "\n",
            "\n"
          ]
        }
      ]
    },
    {
      "cell_type": "code",
      "source": [
        "# Load the NHANESraw data\n",
        "data(\"NHANESraw\")\n",
        "\n",
        "# Take a glimpse at the contents\n",
        "glimpse(NHANESraw)"
      ],
      "metadata": {
        "colab": {
          "base_uri": "https://localhost:8080/"
        },
        "id": "uObfldPbvXea",
        "outputId": "178582bd-7ef2-4c88-b4f6-beeb0449a9d2"
      },
      "execution_count": 5,
      "outputs": [
        {
          "output_type": "stream",
          "name": "stdout",
          "text": [
            "Rows: 20,293\n",
            "Columns: 78\n",
            "$ ID               \u001b[3m\u001b[90m<int>\u001b[39m\u001b[23m 51624, 51625, 51626, 51627, 51628, 51629, 51630, 5163…\n",
            "$ SurveyYr         \u001b[3m\u001b[90m<fct>\u001b[39m\u001b[23m 2009_10, 2009_10, 2009_10, 2009_10, 2009_10, 2009_10,…\n",
            "$ Gender           \u001b[3m\u001b[90m<fct>\u001b[39m\u001b[23m male, male, male, male, female, male, female, female,…\n",
            "$ Age              \u001b[3m\u001b[90m<int>\u001b[39m\u001b[23m 34, 4, 16, 10, 60, 26, 49, 1, 10, 80, 10, 80, 4, 35, …\n",
            "$ AgeMonths        \u001b[3m\u001b[90m<int>\u001b[39m\u001b[23m 409, 49, 202, 131, 722, 313, 596, 12, 124, NA, 121, N…\n",
            "$ Race1            \u001b[3m\u001b[90m<fct>\u001b[39m\u001b[23m White, Other, Black, Black, Black, Mexican, White, Wh…\n",
            "$ Race3            \u001b[3m\u001b[90m<fct>\u001b[39m\u001b[23m NA, NA, NA, NA, NA, NA, NA, NA, NA, NA, NA, NA, NA, N…\n",
            "$ Education        \u001b[3m\u001b[90m<fct>\u001b[39m\u001b[23m High School, NA, NA, NA, High School, 9 - 11th Grade,…\n",
            "$ MaritalStatus    \u001b[3m\u001b[90m<fct>\u001b[39m\u001b[23m Married, NA, NA, NA, Widowed, Married, LivePartner, N…\n",
            "$ HHIncome         \u001b[3m\u001b[90m<fct>\u001b[39m\u001b[23m 25000-34999, 20000-24999, 45000-54999, 20000-24999, 1…\n",
            "$ HHIncomeMid      \u001b[3m\u001b[90m<int>\u001b[39m\u001b[23m 30000, 22500, 50000, 22500, 12500, 30000, 40000, 4000…\n",
            "$ Poverty          \u001b[3m\u001b[90m<dbl>\u001b[39m\u001b[23m 1.36, 1.07, 2.27, 0.81, 0.69, 1.01, 1.91, 1.36, 2.68,…\n",
            "$ HomeRooms        \u001b[3m\u001b[90m<int>\u001b[39m\u001b[23m 6, 9, 5, 6, 6, 4, 5, 5, 7, 4, 5, 5, 7, NA, 6, 6, 5, 6…\n",
            "$ HomeOwn          \u001b[3m\u001b[90m<fct>\u001b[39m\u001b[23m Own, Own, Own, Rent, Rent, Rent, Rent, Rent, Own, Own…\n",
            "$ Work             \u001b[3m\u001b[90m<fct>\u001b[39m\u001b[23m NotWorking, NA, NotWorking, NA, NotWorking, Working, …\n",
            "$ Weight           \u001b[3m\u001b[90m<dbl>\u001b[39m\u001b[23m 87.4, 17.0, 72.3, 39.8, 116.8, 97.6, 86.7, 9.4, 26.0,…\n",
            "$ Length           \u001b[3m\u001b[90m<dbl>\u001b[39m\u001b[23m NA, NA, NA, NA, NA, NA, NA, 75.7, NA, NA, NA, NA, NA,…\n",
            "$ HeadCirc         \u001b[3m\u001b[90m<dbl>\u001b[39m\u001b[23m NA, NA, NA, NA, NA, NA, NA, NA, NA, NA, NA, NA, NA, N…\n",
            "$ Height           \u001b[3m\u001b[90m<dbl>\u001b[39m\u001b[23m 164.7, 105.4, 181.3, 147.8, 166.0, 173.0, 168.4, NA, …\n",
            "$ BMI              \u001b[3m\u001b[90m<dbl>\u001b[39m\u001b[23m 32.22, 15.30, 22.00, 18.22, 42.39, 32.61, 30.57, NA, …\n",
            "$ BMICatUnder20yrs \u001b[3m\u001b[90m<fct>\u001b[39m\u001b[23m NA, NA, NA, NA, NA, NA, NA, NA, NA, NA, NA, NA, NA, N…\n",
            "$ BMI_WHO          \u001b[3m\u001b[90m<fct>\u001b[39m\u001b[23m 30.0_plus, 12.0_18.5, 18.5_to_24.9, 12.0_18.5, 30.0_p…\n",
            "$ Pulse            \u001b[3m\u001b[90m<int>\u001b[39m\u001b[23m 70, NA, 68, 68, 72, 72, 86, NA, 70, 88, 84, 54, NA, N…\n",
            "$ BPSysAve         \u001b[3m\u001b[90m<int>\u001b[39m\u001b[23m 113, NA, 109, 93, 150, 104, 112, NA, 108, 139, 94, 12…\n",
            "$ BPDiaAve         \u001b[3m\u001b[90m<int>\u001b[39m\u001b[23m 85, NA, 59, 41, 68, 49, 75, NA, 53, 43, 45, 60, NA, N…\n",
            "$ BPSys1           \u001b[3m\u001b[90m<int>\u001b[39m\u001b[23m 114, NA, 112, 92, 154, 102, 118, NA, 106, 142, 94, 12…\n",
            "$ BPDia1           \u001b[3m\u001b[90m<int>\u001b[39m\u001b[23m 88, NA, 62, 36, 70, 50, 82, NA, 60, 62, 38, 62, NA, N…\n",
            "$ BPSys2           \u001b[3m\u001b[90m<int>\u001b[39m\u001b[23m 114, NA, 114, 94, 150, 104, 108, NA, 106, 140, 92, 12…\n",
            "$ BPDia2           \u001b[3m\u001b[90m<int>\u001b[39m\u001b[23m 88, NA, 60, 44, 68, 48, 74, NA, 50, 46, 40, 62, NA, N…\n",
            "$ BPSys3           \u001b[3m\u001b[90m<int>\u001b[39m\u001b[23m 112, NA, 104, 92, 150, 104, 116, NA, 110, 138, 96, 11…\n",
            "$ BPDia3           \u001b[3m\u001b[90m<int>\u001b[39m\u001b[23m 82, NA, 58, 38, 68, 50, 76, NA, 56, 40, 50, 58, NA, N…\n",
            "$ Testosterone     \u001b[3m\u001b[90m<dbl>\u001b[39m\u001b[23m NA, NA, NA, NA, NA, NA, NA, NA, NA, NA, NA, NA, NA, N…\n",
            "$ DirectChol       \u001b[3m\u001b[90m<dbl>\u001b[39m\u001b[23m 1.29, NA, 1.55, 1.89, 1.16, 1.16, 1.16, NA, 1.58, 1.9…\n",
            "$ TotChol          \u001b[3m\u001b[90m<dbl>\u001b[39m\u001b[23m 3.49, NA, 4.97, 4.16, 5.22, 4.14, 6.70, NA, 4.14, 4.7…\n",
            "$ UrineVol1        \u001b[3m\u001b[90m<int>\u001b[39m\u001b[23m 352, NA, 281, 139, 30, 202, 77, NA, 39, 128, 109, 38,…\n",
            "$ UrineFlow1       \u001b[3m\u001b[90m<dbl>\u001b[39m\u001b[23m NA, NA, 0.415, 1.078, 0.476, 0.563, 0.094, NA, 0.300,…\n",
            "$ UrineVol2        \u001b[3m\u001b[90m<int>\u001b[39m\u001b[23m NA, NA, NA, NA, 246, NA, NA, NA, NA, NA, NA, NA, NA, …\n",
            "$ UrineFlow2       \u001b[3m\u001b[90m<dbl>\u001b[39m\u001b[23m NA, NA, NA, NA, 2.51, NA, NA, NA, NA, NA, NA, NA, NA,…\n",
            "$ Diabetes         \u001b[3m\u001b[90m<fct>\u001b[39m\u001b[23m No, No, No, No, Yes, No, No, No, No, No, No, Yes, No,…\n",
            "$ DiabetesAge      \u001b[3m\u001b[90m<int>\u001b[39m\u001b[23m NA, NA, NA, NA, 56, NA, NA, NA, NA, NA, NA, 70, NA, N…\n",
            "$ HealthGen        \u001b[3m\u001b[90m<fct>\u001b[39m\u001b[23m Good, NA, Vgood, NA, Fair, Good, Good, NA, NA, Excell…\n",
            "$ DaysPhysHlthBad  \u001b[3m\u001b[90m<int>\u001b[39m\u001b[23m 0, NA, 2, NA, 20, 2, 0, NA, NA, 0, NA, 0, NA, NA, NA,…\n",
            "$ DaysMentHlthBad  \u001b[3m\u001b[90m<int>\u001b[39m\u001b[23m 15, NA, 0, NA, 25, 14, 10, NA, NA, 0, NA, 0, NA, NA, …\n",
            "$ LittleInterest   \u001b[3m\u001b[90m<fct>\u001b[39m\u001b[23m Most, NA, NA, NA, Most, None, Several, NA, NA, None, …\n",
            "$ Depressed        \u001b[3m\u001b[90m<fct>\u001b[39m\u001b[23m Several, NA, NA, NA, Most, Most, Several, NA, NA, Non…\n",
            "$ nPregnancies     \u001b[3m\u001b[90m<int>\u001b[39m\u001b[23m NA, NA, NA, NA, 1, NA, 2, NA, NA, NA, NA, NA, NA, NA,…\n",
            "$ nBabies          \u001b[3m\u001b[90m<int>\u001b[39m\u001b[23m NA, NA, NA, NA, 1, NA, 2, NA, NA, NA, NA, NA, NA, NA,…\n",
            "$ Age1stBaby       \u001b[3m\u001b[90m<int>\u001b[39m\u001b[23m NA, NA, NA, NA, NA, NA, 27, NA, NA, NA, NA, NA, NA, N…\n",
            "$ SleepHrsNight    \u001b[3m\u001b[90m<int>\u001b[39m\u001b[23m 4, NA, 8, NA, 4, 4, 8, NA, NA, 6, NA, 9, NA, 7, NA, N…\n",
            "$ SleepTrouble     \u001b[3m\u001b[90m<fct>\u001b[39m\u001b[23m Yes, NA, No, NA, No, No, Yes, NA, NA, No, NA, No, NA,…\n",
            "$ PhysActive       \u001b[3m\u001b[90m<fct>\u001b[39m\u001b[23m No, NA, Yes, NA, No, Yes, No, NA, NA, Yes, NA, No, NA…\n",
            "$ PhysActiveDays   \u001b[3m\u001b[90m<int>\u001b[39m\u001b[23m NA, NA, 5, NA, NA, 2, NA, NA, NA, 4, NA, NA, NA, NA, …\n",
            "$ TVHrsDay         \u001b[3m\u001b[90m<fct>\u001b[39m\u001b[23m NA, NA, NA, NA, NA, NA, NA, NA, NA, NA, NA, NA, NA, N…\n",
            "$ CompHrsDay       \u001b[3m\u001b[90m<fct>\u001b[39m\u001b[23m NA, NA, NA, NA, NA, NA, NA, NA, NA, NA, NA, NA, NA, N…\n",
            "$ TVHrsDayChild    \u001b[3m\u001b[90m<int>\u001b[39m\u001b[23m NA, 4, NA, 1, NA, NA, NA, NA, 1, NA, 3, NA, 2, NA, 5,…\n",
            "$ CompHrsDayChild  \u001b[3m\u001b[90m<int>\u001b[39m\u001b[23m NA, 1, NA, 1, NA, NA, NA, NA, 0, NA, 0, NA, 1, NA, 0,…\n",
            "$ Alcohol12PlusYr  \u001b[3m\u001b[90m<fct>\u001b[39m\u001b[23m Yes, NA, NA, NA, No, Yes, Yes, NA, NA, Yes, NA, No, N…\n",
            "$ AlcoholDay       \u001b[3m\u001b[90m<int>\u001b[39m\u001b[23m NA, NA, NA, NA, NA, 19, 2, NA, NA, 1, NA, NA, NA, NA,…\n",
            "$ AlcoholYear      \u001b[3m\u001b[90m<int>\u001b[39m\u001b[23m 0, NA, NA, NA, 0, 48, 20, NA, NA, 52, NA, 0, NA, NA, …\n",
            "$ SmokeNow         \u001b[3m\u001b[90m<fct>\u001b[39m\u001b[23m No, NA, NA, NA, Yes, No, Yes, NA, NA, No, NA, No, NA,…\n",
            "$ Smoke100         \u001b[3m\u001b[90m<fct>\u001b[39m\u001b[23m Yes, NA, NA, NA, Yes, Yes, Yes, NA, NA, Yes, NA, Yes,…\n",
            "$ SmokeAge         \u001b[3m\u001b[90m<int>\u001b[39m\u001b[23m 18, NA, NA, NA, 16, 15, 38, NA, NA, 16, NA, 21, NA, N…\n",
            "$ Marijuana        \u001b[3m\u001b[90m<fct>\u001b[39m\u001b[23m Yes, NA, NA, NA, NA, Yes, Yes, NA, NA, NA, NA, NA, NA…\n",
            "$ AgeFirstMarij    \u001b[3m\u001b[90m<int>\u001b[39m\u001b[23m 17, NA, NA, NA, NA, 10, 18, NA, NA, NA, NA, NA, NA, N…\n",
            "$ RegularMarij     \u001b[3m\u001b[90m<fct>\u001b[39m\u001b[23m No, NA, NA, NA, NA, Yes, No, NA, NA, NA, NA, NA, NA, …\n",
            "$ AgeRegMarij      \u001b[3m\u001b[90m<int>\u001b[39m\u001b[23m NA, NA, NA, NA, NA, 12, NA, NA, NA, NA, NA, NA, NA, N…\n",
            "$ HardDrugs        \u001b[3m\u001b[90m<fct>\u001b[39m\u001b[23m Yes, NA, NA, NA, No, Yes, Yes, NA, NA, NA, NA, NA, NA…\n",
            "$ SexEver          \u001b[3m\u001b[90m<fct>\u001b[39m\u001b[23m Yes, NA, NA, NA, Yes, Yes, Yes, NA, NA, NA, NA, NA, N…\n",
            "$ SexAge           \u001b[3m\u001b[90m<int>\u001b[39m\u001b[23m 16, NA, NA, NA, 15, 9, 12, NA, NA, NA, NA, NA, NA, NA…\n",
            "$ SexNumPartnLife  \u001b[3m\u001b[90m<int>\u001b[39m\u001b[23m 8, NA, NA, NA, 4, 10, 10, NA, NA, NA, NA, NA, NA, NA,…\n",
            "$ SexNumPartYear   \u001b[3m\u001b[90m<int>\u001b[39m\u001b[23m 1, NA, NA, NA, NA, 1, 1, NA, NA, NA, NA, NA, NA, NA, …\n",
            "$ SameSex          \u001b[3m\u001b[90m<fct>\u001b[39m\u001b[23m No, NA, NA, NA, No, No, Yes, NA, NA, NA, NA, NA, NA, …\n",
            "$ SexOrientation   \u001b[3m\u001b[90m<fct>\u001b[39m\u001b[23m Heterosexual, NA, NA, NA, NA, Heterosexual, Heterosex…\n",
            "$ WTINT2YR         \u001b[3m\u001b[90m<dbl>\u001b[39m\u001b[23m 80100.544, 53901.104, 13953.078, 11664.899, 20090.339…\n",
            "$ WTMEC2YR         \u001b[3m\u001b[90m<dbl>\u001b[39m\u001b[23m 81528.772, 56995.035, 14509.279, 12041.635, 21000.339…\n",
            "$ SDMVPSU          \u001b[3m\u001b[90m<int>\u001b[39m\u001b[23m 1, 2, 1, 2, 2, 1, 2, 2, 2, 1, 1, 1, 2, 2, 1, 1, 1, 1,…\n",
            "$ SDMVSTRA         \u001b[3m\u001b[90m<int>\u001b[39m\u001b[23m 83, 79, 84, 86, 75, 88, 85, 86, 88, 77, 86, 79, 84, 7…\n",
            "$ PregnantNow      \u001b[3m\u001b[90m<fct>\u001b[39m\u001b[23m NA, NA, NA, NA, NA, NA, NA, NA, NA, NA, NA, NA, NA, U…\n"
          ]
        }
      ]
    },
    {
      "cell_type": "markdown",
      "source": [
        "2. Visualize survey weight and strata variables\n",
        "\n",
        "We see from glimpse() that the NHANESraw data has many health measurement variables. It also contains a sampling weight variable WTMEC2YR.\n",
        "\n",
        "Since NHANESraw data spans 4 years (2009–2012) and the sampling weights are based on 2 years of data, we first need to create a weight variable that scales the sample across the full 4 years. We will divide the 2-year weight in half so that in total, the weights sum to the total US population.\n",
        "\n",
        "The NHANES data has oversampled some geographic regions and specific minority groups. By examining the distribution of sampling weights for each race, we can see that Whites are undersampled and have higher weights while oversampled Black, Mexican, Hispanic people have lower weights since each sampled person in these minority groups represents fewer US people."
      ],
      "metadata": {
        "id": "Ztamfe6E_tok"
      }
    },
    {
      "cell_type": "code",
      "source": [
        "# Load the ggplot2 package\n",
        "library(ggplot2)\n",
        "\n",
        "# Use mutate to create a 4-year weight variable and call it WTMEC4YR\n",
        "NHANESraw <- NHANESraw %>%\n",
        "                mutate(WTMEC4YR = WTMEC2YR / 2)\n",
        "\n",
        "# Calculate the sum of this weight variable\n",
        "NHANESraw %>% summarize(total_WTMEC4YR = sum(WTMEC4YR))\n",
        "\n",
        "# Plot the sample weights using boxplots, with Race1 on the x-axis\n",
        "ggplot(NHANESraw, aes(x=Race1, y=WTMEC4YR))+\n",
        "geom_boxplot()"
      ],
      "metadata": {
        "colab": {
          "base_uri": "https://localhost:8080/",
          "height": 549
        },
        "id": "vlNC-7e5_zmV",
        "outputId": "61cf2a1d-9d15-4ec2-955c-38a07e89a10f"
      },
      "execution_count": 6,
      "outputs": [
        {
          "output_type": "display_data",
          "data": {
            "text/html": [
              "<table class=\"dataframe\">\n",
              "<caption>A tibble: 1 × 1</caption>\n",
              "<thead>\n",
              "\t<tr><th scope=col>total_WTMEC4YR</th></tr>\n",
              "\t<tr><th scope=col>&lt;dbl&gt;</th></tr>\n",
              "</thead>\n",
              "<tbody>\n",
              "\t<tr><td>304267200</td></tr>\n",
              "</tbody>\n",
              "</table>\n"
            ],
            "text/markdown": "\nA tibble: 1 × 1\n\n| total_WTMEC4YR &lt;dbl&gt; |\n|---|\n| 304267200 |\n\n",
            "text/latex": "A tibble: 1 × 1\n\\begin{tabular}{l}\n total\\_WTMEC4YR\\\\\n <dbl>\\\\\n\\hline\n\t 304267200\\\\\n\\end{tabular}\n",
            "text/plain": [
              "  total_WTMEC4YR\n",
              "1 304267200     "
            ]
          },
          "metadata": {}
        },
        {
          "output_type": "display_data",
          "data": {
            "text/plain": [
              "plot without title"
            ],
            "image/png": "[encoded data removed]"
          },
          "metadata": {
            "image/png": {
              "width": 420,
              "height": 420
            }
          }
        }
      ]
    },
    {
      "cell_type": "markdown",
      "source": [
        "3. Specify the survey design\n",
        "\n",
        "We will now use the survey package to specify the complex survey design that we will use in later analyses. The NHANESraw data contains a strata variable SDMVSTRA, and a cluster id variable (also known as a primary sampling unit, PSU), SDMVPSU, that accounts for design effects of clustering. These clusters (PSUs) are nested within strata."
      ],
      "metadata": {
        "id": "ZnF-90bTAHXW"
      }
    },
    {
      "cell_type": "code",
      "source": [
        "install.packages(\"survey\")"
      ],
      "metadata": {
        "colab": {
          "base_uri": "https://localhost:8080/"
        },
        "id": "6VY9bqFKApp0",
        "outputId": "91307de0-6b92-4990-c50f-abc9e1e72801"
      },
      "execution_count": 7,
      "outputs": [
        {
          "output_type": "stream",
          "name": "stderr",
          "text": [
            "Installing package into ‘/usr/local/lib/R/site-library’\n",
            "(as ‘lib’ is unspecified)\n",
            "\n",
            "also installing the dependencies ‘Rcpp’, ‘minqa’, ‘numDeriv’, ‘mitools’\n",
            "\n",
            "\n"
          ]
        }
      ]
    },
    {
      "cell_type": "code",
      "source": [
        "# Load the survey package\n",
        "library(survey)\n",
        "\n",
        "# Specify the survey design\n",
        "nhanes_design <- svydesign(\n",
        "    data = NHANESraw,\n",
        "    strata = ~SDMVSTRA,\n",
        "    id = ~SDMVPSU,\n",
        "    nest = TRUE,\n",
        "    weights = ~WTMEC4YR)\n",
        "\n",
        "# Print a summary of this design\n",
        "summary(nhanes_design)"
      ],
      "metadata": {
        "colab": {
          "base_uri": "https://localhost:8080/",
          "height": 920
        },
        "id": "os4Mb4FBA74Z",
        "outputId": "4e2c16c2-7578-46c9-9ed8-77cb5c728f14"
      },
      "execution_count": 8,
      "outputs": [
        {
          "output_type": "stream",
          "name": "stderr",
          "text": [
            "Loading required package: grid\n",
            "\n",
            "Loading required package: Matrix\n",
            "\n",
            "Loading required package: survival\n",
            "\n",
            "\n",
            "Attaching package: ‘survey’\n",
            "\n",
            "\n",
            "The following object is masked from ‘package:graphics’:\n",
            "\n",
            "    dotchart\n",
            "\n",
            "\n"
          ]
        },
        {
          "output_type": "display_data",
          "data": {
            "text/plain": [
              "Stratified 1 - level Cluster Sampling design (with replacement)\n",
              "With (62) clusters.\n",
              "svydesign(data = NHANESraw, strata = ~SDMVSTRA, id = ~SDMVPSU, \n",
              "    nest = TRUE, weights = ~WTMEC4YR)\n",
              "Probabilities:\n",
              "     Min.   1st Qu.    Median      Mean   3rd Qu.      Max. \n",
              "8.986e-06 5.664e-05 1.054e-04       Inf 1.721e-04       Inf \n",
              "Stratum Sizes: \n",
              "            75  76  77  78  79  80  81  82  83  84  85  86  87  88  89  90  91\n",
              "obs        803 785 823 829 696 751 696 724 713 683 592 946 598 647 251 862 998\n",
              "design.PSU   2   2   2   2   2   2   2   2   2   2   2   3   2   2   2   3   3\n",
              "actual.PSU   2   2   2   2   2   2   2   2   2   2   2   3   2   2   2   3   3\n",
              "            92  93  94  95  96  97  98  99 100 101 102 103\n",
              "obs        875 602 688 722 676 608 708 682 700 715 624 296\n",
              "design.PSU   3   2   2   2   2   2   2   2   2   2   2   2\n",
              "actual.PSU   3   2   2   2   2   2   2   2   2   2   2   2\n",
              "Data variables:\n",
              " [1] \"ID\"               \"SurveyYr\"         \"Gender\"           \"Age\"             \n",
              " [5] \"AgeMonths\"        \"Race1\"            \"Race3\"            \"Education\"       \n",
              " [9] \"MaritalStatus\"    \"HHIncome\"         \"HHIncomeMid\"      \"Poverty\"         \n",
              "[13] \"HomeRooms\"        \"HomeOwn\"          \"Work\"             \"Weight\"          \n",
              "[17] \"Length\"           \"HeadCirc\"         \"Height\"           \"BMI\"             \n",
              "[21] \"BMICatUnder20yrs\" \"BMI_WHO\"          \"Pulse\"            \"BPSysAve\"        \n",
              "[25] \"BPDiaAve\"         \"BPSys1\"           \"BPDia1\"           \"BPSys2\"          \n",
              "[29] \"BPDia2\"           \"BPSys3\"           \"BPDia3\"           \"Testosterone\"    \n",
              "[33] \"DirectChol\"       \"TotChol\"          \"UrineVol1\"        \"UrineFlow1\"      \n",
              "[37] \"UrineVol2\"        \"UrineFlow2\"       \"Diabetes\"         \"DiabetesAge\"     \n",
              "[41] \"HealthGen\"        \"DaysPhysHlthBad\"  \"DaysMentHlthBad\"  \"LittleInterest\"  \n",
              "[45] \"Depressed\"        \"nPregnancies\"     \"nBabies\"          \"Age1stBaby\"      \n",
              "[49] \"SleepHrsNight\"    \"SleepTrouble\"     \"PhysActive\"       \"PhysActiveDays\"  \n",
              "[53] \"TVHrsDay\"         \"CompHrsDay\"       \"TVHrsDayChild\"    \"CompHrsDayChild\" \n",
              "[57] \"Alcohol12PlusYr\"  \"AlcoholDay\"       \"AlcoholYear\"      \"SmokeNow\"        \n",
              "[61] \"Smoke100\"         \"SmokeAge\"         \"Marijuana\"        \"AgeFirstMarij\"   \n",
              "[65] \"RegularMarij\"     \"AgeRegMarij\"      \"HardDrugs\"        \"SexEver\"         \n",
              "[69] \"SexAge\"           \"SexNumPartnLife\"  \"SexNumPartYear\"   \"SameSex\"         \n",
              "[73] \"SexOrientation\"   \"WTINT2YR\"         \"WTMEC2YR\"         \"SDMVPSU\"         \n",
              "[77] \"SDMVSTRA\"         \"PregnantNow\"      \"WTMEC4YR\"        "
            ]
          },
          "metadata": {}
        }
      ]
    },
    {
      "cell_type": "markdown",
      "source": [
        "4. Subset the data\n",
        "\n",
        "Analysis of survey data requires careful consideration of the sampling design and weights at every step. Something as simple as filtering the data becomes complicated when weights are involved.\n",
        "\n",
        "When we wish to examine a subset of the data (i.e. the subpopulation of adult Hispanics with diabetes, or pregnant women), we must explicitly specify this in the design. We cannot simply remove that subset of the data through filtering the raw data because the survey weights will no longer be correct and will not add up to the full US population.\n",
        "\n",
        "BMI categories are different for children and young adults younger than 20 so we will subset the data to only analyze adults of at least 20 years of age."
      ],
      "metadata": {
        "id": "5O6H77iFBYxb"
      }
    },
    {
      "cell_type": "code",
      "source": [
        "# Select adults of Age >= 20 with subset\n",
        "nhanes_adult <- nhanes_design%>%\n",
        "                subset(Age >=20)\n",
        "\n",
        "# Print a summary of this subset\n",
        "summary(nhanes_adult)\n",
        "\n",
        "# Compare the number of observations in the full data to the adult data\n",
        "nrow(nhanes_adult)\n",
        "nrow(nhanes_design)"
      ],
      "metadata": {
        "colab": {
          "base_uri": "https://localhost:8080/",
          "height": 677
        },
        "id": "Q2lZzMRfBef7",
        "outputId": "e632d214-8afe-4928-a54b-d6ecae6e8772"
      },
      "execution_count": 9,
      "outputs": [
        {
          "output_type": "display_data",
          "data": {
            "text/plain": [
              "Stratified 1 - level Cluster Sampling design (with replacement)\n",
              "With (62) clusters.\n",
              "subset(., Age >= 20)\n",
              "Probabilities:\n",
              "     Min.   1st Qu.    Median      Mean   3rd Qu.      Max. \n",
              "8.986e-06 4.303e-05 8.107e-05       Inf 1.240e-04       Inf \n",
              "Stratum Sizes: \n",
              "            75  76  77  78  79  80  81  82  83  84  85  86  87  88  89  90  91\n",
              "obs        471 490 526 500 410 464 447 400 411 395 357 512 327 355 153 509 560\n",
              "design.PSU   2   2   2   2   2   2   2   2   2   2   2   3   2   2   2   3   3\n",
              "actual.PSU   2   2   2   2   2   2   2   2   2   2   2   3   2   2   2   3   3\n",
              "            92  93  94  95  96  97  98  99 100 101 102 103\n",
              "obs        483 376 368 454 362 315 414 409 377 460 308 165\n",
              "design.PSU   3   2   2   2   2   2   2   2   2   2   2   2\n",
              "actual.PSU   3   2   2   2   2   2   2   2   2   2   2   2\n",
              "Data variables:\n",
              " [1] \"ID\"               \"SurveyYr\"         \"Gender\"           \"Age\"             \n",
              " [5] \"AgeMonths\"        \"Race1\"            \"Race3\"            \"Education\"       \n",
              " [9] \"MaritalStatus\"    \"HHIncome\"         \"HHIncomeMid\"      \"Poverty\"         \n",
              "[13] \"HomeRooms\"        \"HomeOwn\"          \"Work\"             \"Weight\"          \n",
              "[17] \"Length\"           \"HeadCirc\"         \"Height\"           \"BMI\"             \n",
              "[21] \"BMICatUnder20yrs\" \"BMI_WHO\"          \"Pulse\"            \"BPSysAve\"        \n",
              "[25] \"BPDiaAve\"         \"BPSys1\"           \"BPDia1\"           \"BPSys2\"          \n",
              "[29] \"BPDia2\"           \"BPSys3\"           \"BPDia3\"           \"Testosterone\"    \n",
              "[33] \"DirectChol\"       \"TotChol\"          \"UrineVol1\"        \"UrineFlow1\"      \n",
              "[37] \"UrineVol2\"        \"UrineFlow2\"       \"Diabetes\"         \"DiabetesAge\"     \n",
              "[41] \"HealthGen\"        \"DaysPhysHlthBad\"  \"DaysMentHlthBad\"  \"LittleInterest\"  \n",
              "[45] \"Depressed\"        \"nPregnancies\"     \"nBabies\"          \"Age1stBaby\"      \n",
              "[49] \"SleepHrsNight\"    \"SleepTrouble\"     \"PhysActive\"       \"PhysActiveDays\"  \n",
              "[53] \"TVHrsDay\"         \"CompHrsDay\"       \"TVHrsDayChild\"    \"CompHrsDayChild\" \n",
              "[57] \"Alcohol12PlusYr\"  \"AlcoholDay\"       \"AlcoholYear\"      \"SmokeNow\"        \n",
              "[61] \"Smoke100\"         \"SmokeAge\"         \"Marijuana\"        \"AgeFirstMarij\"   \n",
              "[65] \"RegularMarij\"     \"AgeRegMarij\"      \"HardDrugs\"        \"SexEver\"         \n",
              "[69] \"SexAge\"           \"SexNumPartnLife\"  \"SexNumPartYear\"   \"SameSex\"         \n",
              "[73] \"SexOrientation\"   \"WTINT2YR\"         \"WTMEC2YR\"         \"SDMVPSU\"         \n",
              "[77] \"SDMVSTRA\"         \"PregnantNow\"      \"WTMEC4YR\"        "
            ]
          },
          "metadata": {}
        },
        {
          "output_type": "display_data",
          "data": {
            "text/html": [
              "11778"
            ],
            "text/markdown": "11778",
            "text/latex": "11778",
            "text/plain": [
              "[1] 11778"
            ]
          },
          "metadata": {}
        },
        {
          "output_type": "display_data",
          "data": {
            "text/html": [
              "20293"
            ],
            "text/markdown": "20293",
            "text/latex": "20293",
            "text/plain": [
              "[1] 20293"
            ]
          },
          "metadata": {}
        }
      ]
    },
    {
      "cell_type": "markdown",
      "source": [
        "5. Visualizing BMI\n",
        "\n",
        "We let svydesign() do its magic, but how does this help us learn about the full US population? With survey methods, we can use the sampling weights to estimate the true distributions of measurements within the entire population. This works for many statistics such as means, proportions, and standard deviations.\n",
        "\n",
        "We'll use survey methods to estimate average BMI in the US adult population and also to draw a weighted histogram of the distribution."
      ],
      "metadata": {
        "id": "tQaF5bkiBzsY"
      }
    },
    {
      "cell_type": "code",
      "source": [
        "# Calculate the mean BMI in NHANESraw\n",
        "bmi_mean_raw <- NHANESraw %>%\n",
        "    filter(Age >= 20) %>%\n",
        "    summarize(avg.BMI = mean(BMI, na.rm=TRUE))\n",
        "bmi_mean_raw\n",
        "\n",
        "# Calculate the survey-weighted mean BMI of US adults\n",
        "bmi_mean <- svymean(~BMI, design = nhanes_adult, na.rm = TRUE)\n",
        "bmi_mean\n",
        "\n",
        "# Draw a weighted histogram of BMI in the US population\n",
        "NHANESraw %>%\n",
        "  filter(Age >= 20) %>%\n",
        "    ggplot(mapping=aes(x=BMI, weight=WTMEC4YR)) +\n",
        "    geom_histogram()+\n",
        "    geom_vline(xintercept = coef(bmi_mean), color=\"red\")"
      ],
      "metadata": {
        "colab": {
          "base_uri": "https://localhost:8080/",
          "height": 654
        },
        "id": "S4LCthD6BcT_",
        "outputId": "df8f37a8-cce5-4897-85c4-922db5b4bda8"
      },
      "execution_count": 10,
      "outputs": [
        {
          "output_type": "display_data",
          "data": {
            "text/html": [
              "<table class=\"dataframe\">\n",
              "<caption>A tibble: 1 × 1</caption>\n",
              "<thead>\n",
              "\t<tr><th scope=col>avg.BMI</th></tr>\n",
              "\t<tr><th scope=col>&lt;dbl&gt;</th></tr>\n",
              "</thead>\n",
              "<tbody>\n",
              "\t<tr><td>28.98217</td></tr>\n",
              "</tbody>\n",
              "</table>\n"
            ],
            "text/markdown": "\nA tibble: 1 × 1\n\n| avg.BMI &lt;dbl&gt; |\n|---|\n| 28.98217 |\n\n",
            "text/latex": "A tibble: 1 × 1\n\\begin{tabular}{l}\n avg.BMI\\\\\n <dbl>\\\\\n\\hline\n\t 28.98217\\\\\n\\end{tabular}\n",
            "text/plain": [
              "  avg.BMI \n",
              "1 28.98217"
            ]
          },
          "metadata": {}
        },
        {
          "output_type": "display_data",
          "data": {
            "text/plain": [
              "      mean     SE\n",
              "BMI 28.734 0.1235"
            ]
          },
          "metadata": {}
        },
        {
          "output_type": "stream",
          "name": "stderr",
          "text": [
            "\u001b[1m\u001b[22m`stat_bin()` using `bins = 30`. Pick better value with `binwidth`.\n",
            "Warning message:\n",
            "“\u001b[1m\u001b[22mRemoved 547 rows containing non-finite values (`stat_bin()`).”\n"
          ]
        },
        {
          "output_type": "display_data",
          "data": {
            "text/plain": [
              "plot without title"
            ],
            "image/png": "[encoded data removed]"
          },
          "metadata": {
            "image/png": {
              "width": 420,
              "height": 420
            }
          }
        }
      ]
    },
    {
      "cell_type": "markdown",
      "source": [
        "6. Is BMI lower in physically active people?\n",
        "\n",
        "The distribution of BMI looks to be about what we might expect with most people under 40 kg/m2 and a slight positive skewness because a few people have much higher BMI. Now to the question of interest: does the distribution of BMI differ between people who are physically active versus those who are not physically active? We can visually compare BMI with a boxplot as well as formally test for a difference in mean BMI."
      ],
      "metadata": {
        "id": "j5G_ZHApCTnM"
      }
    },
    {
      "cell_type": "code",
      "source": [
        "install.packages(\"broom\")"
      ],
      "metadata": {
        "colab": {
          "base_uri": "https://localhost:8080/"
        },
        "id": "ug7ulpMVCZSA",
        "outputId": "a9ed317d-b649-4f0e-dce5-dde300610fda"
      },
      "execution_count": 11,
      "outputs": [
        {
          "output_type": "stream",
          "name": "stderr",
          "text": [
            "Installing package into ‘/usr/local/lib/R/site-library’\n",
            "(as ‘lib’ is unspecified)\n",
            "\n"
          ]
        }
      ]
    },
    {
      "cell_type": "code",
      "source": [
        "# Load the broom library\n",
        "library(broom)\n",
        "\n",
        "# Make a boxplot of BMI stratified by physically active status\n",
        "NHANESraw %>%\n",
        "  filter(Age>=20) %>%\n",
        "    ggplot(mapping=aes(x=PhysActive, y= BMI, weight=WTMEC4YR))+\n",
        "    geom_boxplot()\n",
        "\n",
        "# Conduct a t-test comparing mean BMI between physically active status\n",
        "survey_ttest <- svyttest(BMI~PhysActive, design = nhanes_adult)\n",
        "\n",
        "# Use broom to show the tidy results\n",
        "tidy(survey_ttest)"
      ],
      "metadata": {
        "colab": {
          "base_uri": "https://localhost:8080/",
          "height": 654
        },
        "id": "TDwOMby0CvkQ",
        "outputId": "c2d47ef5-c1b6-4d25-ca58-8222530e0fb5"
      },
      "execution_count": 12,
      "outputs": [
        {
          "output_type": "stream",
          "name": "stderr",
          "text": [
            "Warning message:\n",
            "“\u001b[1m\u001b[22mRemoved 547 rows containing non-finite values (`stat_boxplot()`).”\n",
            "Warning message:\n",
            "“\u001b[1m\u001b[22mComputation failed in `stat_boxplot()`\n",
            "Caused by error in `loadNamespace()`:\n",
            "\u001b[33m!\u001b[39m there is no package called ‘quantreg’”\n"
          ]
        },
        {
          "output_type": "display_data",
          "data": {
            "text/html": [
              "<table class=\"dataframe\">\n",
              "<caption>A tibble: 1 × 8</caption>\n",
              "<thead>\n",
              "\t<tr><th scope=col>estimate</th><th scope=col>statistic</th><th scope=col>p.value</th><th scope=col>parameter</th><th scope=col>conf.low</th><th scope=col>conf.high</th><th scope=col>method</th><th scope=col>alternative</th></tr>\n",
              "\t<tr><th scope=col>&lt;dbl&gt;</th><th scope=col>&lt;dbl&gt;</th><th scope=col>&lt;dbl&gt;</th><th scope=col>&lt;dbl&gt;</th><th scope=col>&lt;dbl&gt;</th><th scope=col>&lt;dbl&gt;</th><th scope=col>&lt;chr&gt;</th><th scope=col>&lt;chr&gt;</th></tr>\n",
              "</thead>\n",
              "<tbody>\n",
              "\t<tr><td>-1.846458</td><td>-9.716503</td><td>4.56031e-11</td><td>32</td><td>-2.233542</td><td>-1.459373</td><td>Design-based t-test</td><td>two.sided</td></tr>\n",
              "</tbody>\n",
              "</table>\n"
            ],
            "text/markdown": "\nA tibble: 1 × 8\n\n| estimate &lt;dbl&gt; | statistic &lt;dbl&gt; | p.value &lt;dbl&gt; | parameter &lt;dbl&gt; | conf.low &lt;dbl&gt; | conf.high &lt;dbl&gt; | method &lt;chr&gt; | alternative &lt;chr&gt; |\n|---|---|---|---|---|---|---|---|\n| -1.846458 | -9.716503 | 4.56031e-11 | 32 | -2.233542 | -1.459373 | Design-based t-test | two.sided |\n\n",
            "text/latex": "A tibble: 1 × 8\n\\begin{tabular}{llllllll}\n estimate & statistic & p.value & parameter & conf.low & conf.high & method & alternative\\\\\n <dbl> & <dbl> & <dbl> & <dbl> & <dbl> & <dbl> & <chr> & <chr>\\\\\n\\hline\n\t -1.846458 & -9.716503 & 4.56031e-11 & 32 & -2.233542 & -1.459373 & Design-based t-test & two.sided\\\\\n\\end{tabular}\n",
            "text/plain": [
              "  estimate  statistic p.value     parameter conf.low  conf.high\n",
              "1 -1.846458 -9.716503 4.56031e-11 32        -2.233542 -1.459373\n",
              "  method              alternative\n",
              "1 Design-based t-test two.sided  "
            ]
          },
          "metadata": {}
        },
        {
          "output_type": "display_data",
          "data": {
            "text/plain": [
              "plot without title"
            ],
            "image/png": "[encoded data removed]"
          },
          "metadata": {
            "image/png": {
              "width": 420,
              "height": 420
            }
          }
        }
      ]
    },
    {
      "cell_type": "code",
      "source": [
        "\n",
        "# Estimate the proportion who are physically active by current smoking status\n",
        "phys_by_smoke <- svyby(~PhysActive, by = ~SmokeNow,\n",
        "                       FUN = svymean,\n",
        "                       design = nhanes_adult,\n",
        "                       keep.names = FALSE)\n",
        "\n",
        "# Print the table\n",
        "phys_by_smoke\n",
        "\n",
        "# Plot the proportions\n",
        "ggplot(data = phys_by_smoke, aes(SmokeNow, PhysActiveYes, fill = SmokeNow)) +\n",
        " geom_col()+\n",
        "    ylab(\"Proportion Physically Active\")"
      ],
      "metadata": {
        "colab": {
          "base_uri": "https://localhost:8080/",
          "height": 581
        },
        "id": "JD8RTTRFDR4h",
        "outputId": "26d68c02-2d74-474d-fb0d-35b0c4ba22cf"
      },
      "execution_count": 13,
      "outputs": [
        {
          "output_type": "display_data",
          "data": {
            "text/html": [
              "<table class=\"dataframe\">\n",
              "<caption>A svyby: 2 × 5</caption>\n",
              "<thead>\n",
              "\t<tr><th></th><th scope=col>SmokeNow</th><th scope=col>PhysActiveNo</th><th scope=col>PhysActiveYes</th><th scope=col>se.PhysActiveNo</th><th scope=col>se.PhysActiveYes</th></tr>\n",
              "\t<tr><th></th><th scope=col>&lt;fct&gt;</th><th scope=col>&lt;dbl&gt;</th><th scope=col>&lt;dbl&gt;</th><th scope=col>&lt;dbl&gt;</th><th scope=col>&lt;dbl&gt;</th></tr>\n",
              "</thead>\n",
              "<tbody>\n",
              "\t<tr><th scope=row>1</th><td>No </td><td>0.4566990</td><td>0.5433010</td><td>0.01738054</td><td>0.01738054</td></tr>\n",
              "\t<tr><th scope=row>2</th><td>Yes</td><td>0.5885421</td><td>0.4114579</td><td>0.01163246</td><td>0.01163246</td></tr>\n",
              "</tbody>\n",
              "</table>\n"
            ],
            "text/markdown": "\nA svyby: 2 × 5\n\n| <!--/--> | SmokeNow &lt;fct&gt; | PhysActiveNo &lt;dbl&gt; | PhysActiveYes &lt;dbl&gt; | se.PhysActiveNo &lt;dbl&gt; | se.PhysActiveYes &lt;dbl&gt; |\n|---|---|---|---|---|---|\n| 1 | No  | 0.4566990 | 0.5433010 | 0.01738054 | 0.01738054 |\n| 2 | Yes | 0.5885421 | 0.4114579 | 0.01163246 | 0.01163246 |\n\n",
            "text/latex": "A svyby: 2 × 5\n\\begin{tabular}{r|lllll}\n  & SmokeNow & PhysActiveNo & PhysActiveYes & se.PhysActiveNo & se.PhysActiveYes\\\\\n  & <fct> & <dbl> & <dbl> & <dbl> & <dbl>\\\\\n\\hline\n\t1 & No  & 0.4566990 & 0.5433010 & 0.01738054 & 0.01738054\\\\\n\t2 & Yes & 0.5885421 & 0.4114579 & 0.01163246 & 0.01163246\\\\\n\\end{tabular}\n",
            "text/plain": [
              "  SmokeNow PhysActiveNo PhysActiveYes se.PhysActiveNo se.PhysActiveYes\n",
              "1 No       0.4566990    0.5433010     0.01738054      0.01738054      \n",
              "2 Yes      0.5885421    0.4114579     0.01163246      0.01163246      "
            ]
          },
          "metadata": {}
        },
        {
          "output_type": "display_data",
          "data": {
            "text/plain": [
              "plot without title"
            ],
            "image/png": "[encoded data removed]"
          },
          "metadata": {
            "image/png": {
              "width": 420,
              "height": 420
            }
          }
        }
      ]
    },
    {
      "cell_type": "markdown",
      "source": [
        "8. Could there be confounding by smoking? (part 2)\n",
        "\n",
        "Now let's examine the relationship between smoking with BMI."
      ],
      "metadata": {
        "id": "Ik5L2GfRDhHW"
      }
    },
    {
      "cell_type": "code",
      "source": [
        "install.packages(\"ggplot2\")\n",
        "install.packages(\"quantreg\")"
      ],
      "metadata": {
        "colab": {
          "base_uri": "https://localhost:8080/"
        },
        "id": "gHoyhdt58_uq",
        "outputId": "2628fb7f-9ac9-453c-f7b6-ac62ad0119bc"
      },
      "execution_count": 15,
      "outputs": [
        {
          "output_type": "stream",
          "name": "stderr",
          "text": [
            "Installing package into ‘/usr/local/lib/R/site-library’\n",
            "(as ‘lib’ is unspecified)\n",
            "\n",
            "Installing package into ‘/usr/local/lib/R/site-library’\n",
            "(as ‘lib’ is unspecified)\n",
            "\n",
            "also installing the dependencies ‘SparseM’, ‘MatrixModels’\n",
            "\n",
            "\n"
          ]
        }
      ]
    },
    {
      "cell_type": "code",
      "source": [
        "# Estimate mean BMI by current smoking status\n",
        "BMI_by_smoke <- svyby(~BMI, by = ~SmokeNow,\n",
        "                       FUN = svymean,\n",
        "                       design = nhanes_adult,\n",
        "                       na.rm = TRUE)\n",
        "BMI_by_smoke\n",
        "\n",
        "# Plot the distribution of BMI by current smoking status\n",
        "NHANESraw %>%\n",
        "  filter(Age>=20, !is.na(SmokeNow)) %>%\n",
        "    ggplot(mapping=aes(x=SmokeNow, y= BMI, weight=WTMEC4YR))+\n",
        "    geom_boxplot()"
      ],
      "metadata": {
        "colab": {
          "base_uri": "https://localhost:8080/",
          "height": 616
        },
        "id": "-snNUhttDnXj",
        "outputId": "4374ecce-7157-4267-b8ac-82c53f421a2e"
      },
      "execution_count": 17,
      "outputs": [
        {
          "output_type": "display_data",
          "data": {
            "text/html": [
              "<table class=\"dataframe\">\n",
              "<caption>A svyby: 2 × 3</caption>\n",
              "<thead>\n",
              "\t<tr><th></th><th scope=col>SmokeNow</th><th scope=col>BMI</th><th scope=col>se</th></tr>\n",
              "\t<tr><th></th><th scope=col>&lt;fct&gt;</th><th scope=col>&lt;dbl&gt;</th><th scope=col>&lt;dbl&gt;</th></tr>\n",
              "</thead>\n",
              "<tbody>\n",
              "\t<tr><th scope=row>No</th><td>No </td><td>29.25734</td><td>0.1915138</td></tr>\n",
              "\t<tr><th scope=row>Yes</th><td>Yes</td><td>27.74873</td><td>0.1652377</td></tr>\n",
              "</tbody>\n",
              "</table>\n"
            ],
            "text/markdown": "\nA svyby: 2 × 3\n\n| <!--/--> | SmokeNow &lt;fct&gt; | BMI &lt;dbl&gt; | se &lt;dbl&gt; |\n|---|---|---|---|\n| No | No  | 29.25734 | 0.1915138 |\n| Yes | Yes | 27.74873 | 0.1652377 |\n\n",
            "text/latex": "A svyby: 2 × 3\n\\begin{tabular}{r|lll}\n  & SmokeNow & BMI & se\\\\\n  & <fct> & <dbl> & <dbl>\\\\\n\\hline\n\tNo & No  & 29.25734 & 0.1915138\\\\\n\tYes & Yes & 27.74873 & 0.1652377\\\\\n\\end{tabular}\n",
            "text/plain": [
              "    SmokeNow BMI      se       \n",
              "No  No       29.25734 0.1915138\n",
              "Yes Yes      27.74873 0.1652377"
            ]
          },
          "metadata": {}
        },
        {
          "output_type": "stream",
          "name": "stderr",
          "text": [
            "Warning message:\n",
            "“\u001b[1m\u001b[22mRemoved 244 rows containing non-finite values (`stat_boxplot()`).”\n"
          ]
        },
        {
          "output_type": "display_data",
          "data": {
            "text/plain": [
              "plot without title"
            ],
            "image/png": "[encoded data removed]"
          },
          "metadata": {
            "image/png": {
              "width": 420,
              "height": 420
            }
          }
        }
      ]
    },
    {
      "cell_type": "markdown",
      "source": [
        "9. Add smoking in the mix\n",
        "\n",
        "We saw that people who smoke are less likely to be physically active and have a higher BMI on average. We also saw that people who are physically active have a lower BMI on average. How do these seemingly conflicting associations work together? To get a better sense of what's going on, we can compare BMI by physical activity stratified by smoking status."
      ],
      "metadata": {
        "id": "eeWKhUR9-JsV"
      }
    },
    {
      "cell_type": "code",
      "source": [
        "library(quantreg)"
      ],
      "metadata": {
        "colab": {
          "base_uri": "https://localhost:8080/"
        },
        "id": "1CTAUbKO9tLt",
        "outputId": "b87989de-217a-4c95-a2aa-80e456e0e53c"
      },
      "execution_count": 16,
      "outputs": [
        {
          "output_type": "stream",
          "name": "stderr",
          "text": [
            "Loading required package: SparseM\n",
            "\n",
            "\n",
            "Attaching package: ‘SparseM’\n",
            "\n",
            "\n",
            "The following object is masked from ‘package:base’:\n",
            "\n",
            "    backsolve\n",
            "\n",
            "\n",
            "\n",
            "Attaching package: ‘quantreg’\n",
            "\n",
            "\n",
            "The following object is masked from ‘package:survival’:\n",
            "\n",
            "    untangle.specials\n",
            "\n",
            "\n"
          ]
        }
      ]
    },
    {
      "cell_type": "code",
      "source": [
        "# Plot the distribution of BMI by smoking and physical activity status\n",
        "NHANESraw %>%\n",
        "  filter(Age>=20) %>%\n",
        "    ggplot(mapping=aes(x=SmokeNow, y= BMI, weight=WTMEC4YR, color=PhysActive))+\n",
        "    geom_boxplot()"
      ],
      "metadata": {
        "id": "UVLsI5mXDwSB",
        "colab": {
          "base_uri": "https://localhost:8080/",
          "height": 472
        },
        "outputId": "7805ff53-8d69-42c2-81b1-694419810d90"
      },
      "execution_count": 18,
      "outputs": [
        {
          "output_type": "stream",
          "name": "stderr",
          "text": [
            "Warning message:\n",
            "“\u001b[1m\u001b[22mRemoved 547 rows containing non-finite values (`stat_boxplot()`).”\n"
          ]
        },
        {
          "output_type": "display_data",
          "data": {
            "text/plain": [
              "plot without title"
            ],
            "image/png": "[encoded data removed]"
          },
          "metadata": {
            "image/png": {
              "width": 420,
              "height": 420
            }
          }
        }
      ]
    },
    {
      "cell_type": "code",
      "source": [
        "# Fit a multiple regression model\n",
        "mod1 <- svyglm(BMI ~ SmokeNow * PhysActive, design = nhanes_adult)\n",
        "\n",
        "# Tidy the model results\n",
        "tidy_mod1 <- tidy(mod1)\n",
        "tidy_mod1\n",
        "\n",
        "# Calculate expected mean difference in BMI for activity within non-smokers\n",
        "diff_non_smoke <- tidy_mod1 %>%\n",
        "    filter(term == \"PhysActiveYes\") %>%\n",
        "    select(estimate)\n",
        "diff_non_smoke\n",
        "\n",
        "# Calculate expected mean difference in BMI for activity within smokers\n",
        "diff_smoke <- tidy_mod1 %>%\n",
        "   filter(term %in% c('PhysActiveYes','SmokeNowYes:PhysActiveYes')) %>%\n",
        "    summarize(estimate = sum(estimate))\n",
        "diff_smoke"
      ],
      "metadata": {
        "colab": {
          "base_uri": "https://localhost:8080/",
          "height": 483
        },
        "id": "a80dC35s-VHq",
        "outputId": "8ad78c55-bf4c-4008-e831-4b922c99ecda"
      },
      "execution_count": 19,
      "outputs": [
        {
          "output_type": "display_data",
          "data": {
            "text/html": [
              "<table class=\"dataframe\">\n",
              "<caption>A tibble: 4 × 5</caption>\n",
              "<thead>\n",
              "\t<tr><th scope=col>term</th><th scope=col>estimate</th><th scope=col>std.error</th><th scope=col>statistic</th><th scope=col>p.value</th></tr>\n",
              "\t<tr><th scope=col>&lt;chr&gt;</th><th scope=col>&lt;dbl&gt;</th><th scope=col>&lt;dbl&gt;</th><th scope=col>&lt;dbl&gt;</th><th scope=col>&lt;dbl&gt;</th></tr>\n",
              "</thead>\n",
              "<tbody>\n",
              "\t<tr><td>(Intercept)              </td><td>30.540997</td><td>0.2098466</td><td>145.539656</td><td>2.619435e-44</td></tr>\n",
              "\t<tr><td>SmokeNowYes              </td><td>-2.238390</td><td>0.2665632</td><td> -8.397223</td><td>2.262528e-09</td></tr>\n",
              "\t<tr><td>PhysActiveYes            </td><td>-2.350701</td><td>0.2358895</td><td> -9.965262</td><td>4.961177e-11</td></tr>\n",
              "\t<tr><td>SmokeNowYes:PhysActiveYes</td><td> 1.004490</td><td>0.3435443</td><td>  2.923903</td><td>6.520735e-03</td></tr>\n",
              "</tbody>\n",
              "</table>\n"
            ],
            "text/markdown": "\nA tibble: 4 × 5\n\n| term &lt;chr&gt; | estimate &lt;dbl&gt; | std.error &lt;dbl&gt; | statistic &lt;dbl&gt; | p.value &lt;dbl&gt; |\n|---|---|---|---|---|\n| (Intercept)               | 30.540997 | 0.2098466 | 145.539656 | 2.619435e-44 |\n| SmokeNowYes               | -2.238390 | 0.2665632 |  -8.397223 | 2.262528e-09 |\n| PhysActiveYes             | -2.350701 | 0.2358895 |  -9.965262 | 4.961177e-11 |\n| SmokeNowYes:PhysActiveYes |  1.004490 | 0.3435443 |   2.923903 | 6.520735e-03 |\n\n",
            "text/latex": "A tibble: 4 × 5\n\\begin{tabular}{lllll}\n term & estimate & std.error & statistic & p.value\\\\\n <chr> & <dbl> & <dbl> & <dbl> & <dbl>\\\\\n\\hline\n\t (Intercept)               & 30.540997 & 0.2098466 & 145.539656 & 2.619435e-44\\\\\n\t SmokeNowYes               & -2.238390 & 0.2665632 &  -8.397223 & 2.262528e-09\\\\\n\t PhysActiveYes             & -2.350701 & 0.2358895 &  -9.965262 & 4.961177e-11\\\\\n\t SmokeNowYes:PhysActiveYes &  1.004490 & 0.3435443 &   2.923903 & 6.520735e-03\\\\\n\\end{tabular}\n",
            "text/plain": [
              "  term                      estimate  std.error statistic  p.value     \n",
              "1 (Intercept)               30.540997 0.2098466 145.539656 2.619435e-44\n",
              "2 SmokeNowYes               -2.238390 0.2665632  -8.397223 2.262528e-09\n",
              "3 PhysActiveYes             -2.350701 0.2358895  -9.965262 4.961177e-11\n",
              "4 SmokeNowYes:PhysActiveYes  1.004490 0.3435443   2.923903 6.520735e-03"
            ]
          },
          "metadata": {}
        },
        {
          "output_type": "display_data",
          "data": {
            "text/html": [
              "<table class=\"dataframe\">\n",
              "<caption>A tibble: 1 × 1</caption>\n",
              "<thead>\n",
              "\t<tr><th scope=col>estimate</th></tr>\n",
              "\t<tr><th scope=col>&lt;dbl&gt;</th></tr>\n",
              "</thead>\n",
              "<tbody>\n",
              "\t<tr><td>-2.350701</td></tr>\n",
              "</tbody>\n",
              "</table>\n"
            ],
            "text/markdown": "\nA tibble: 1 × 1\n\n| estimate &lt;dbl&gt; |\n|---|\n| -2.350701 |\n\n",
            "text/latex": "A tibble: 1 × 1\n\\begin{tabular}{l}\n estimate\\\\\n <dbl>\\\\\n\\hline\n\t -2.350701\\\\\n\\end{tabular}\n",
            "text/plain": [
              "  estimate \n",
              "1 -2.350701"
            ]
          },
          "metadata": {}
        },
        {
          "output_type": "display_data",
          "data": {
            "text/html": [
              "<table class=\"dataframe\">\n",
              "<caption>A tibble: 1 × 1</caption>\n",
              "<thead>\n",
              "\t<tr><th scope=col>estimate</th></tr>\n",
              "\t<tr><th scope=col>&lt;dbl&gt;</th></tr>\n",
              "</thead>\n",
              "<tbody>\n",
              "\t<tr><td>-1.346211</td></tr>\n",
              "</tbody>\n",
              "</table>\n"
            ],
            "text/markdown": "\nA tibble: 1 × 1\n\n| estimate &lt;dbl&gt; |\n|---|\n| -1.346211 |\n\n",
            "text/latex": "A tibble: 1 × 1\n\\begin{tabular}{l}\n estimate\\\\\n <dbl>\\\\\n\\hline\n\t -1.346211\\\\\n\\end{tabular}\n",
            "text/plain": [
              "  estimate \n",
              "1 -1.346211"
            ]
          },
          "metadata": {}
        }
      ]
    },
    {
      "cell_type": "code",
      "source": [
        "# Adjust mod1 for other possible confounders\n",
        "mod2 <- svyglm(BMI ~ PhysActive*SmokeNow + Race1 + Alcohol12PlusYr + Gender,\n",
        "               design = nhanes_adult)\n",
        "\n",
        "# Tidy the output\n",
        "tidy(mod2)"
      ],
      "metadata": {
        "colab": {
          "base_uri": "https://localhost:8080/",
          "height": 412
        },
        "id": "9B5AoLDR-cqs",
        "outputId": "c8fd44a7-2748-4bd2-96a3-dd3f1b1608b9"
      },
      "execution_count": 20,
      "outputs": [
        {
          "output_type": "display_data",
          "data": {
            "text/html": [
              "<table class=\"dataframe\">\n",
              "<caption>A tibble: 10 × 5</caption>\n",
              "<thead>\n",
              "\t<tr><th scope=col>term</th><th scope=col>estimate</th><th scope=col>std.error</th><th scope=col>statistic</th><th scope=col>p.value</th></tr>\n",
              "\t<tr><th scope=col>&lt;chr&gt;</th><th scope=col>&lt;dbl&gt;</th><th scope=col>&lt;dbl&gt;</th><th scope=col>&lt;dbl&gt;</th><th scope=col>&lt;dbl&gt;</th></tr>\n",
              "</thead>\n",
              "<tbody>\n",
              "\t<tr><td>(Intercept)              </td><td>33.2378322</td><td>0.3162940</td><td>105.0852370</td><td>1.745688e-33</td></tr>\n",
              "\t<tr><td>PhysActiveYes            </td><td>-2.1140302</td><td>0.2729173</td><td> -7.7460482</td><td>5.559290e-08</td></tr>\n",
              "\t<tr><td>SmokeNowYes              </td><td>-2.2266832</td><td>0.3034114</td><td> -7.3388252</td><td>1.402940e-07</td></tr>\n",
              "\t<tr><td>Race1Hispanic            </td><td>-1.4670407</td><td>0.4200193</td><td> -3.4927937</td><td>1.875493e-03</td></tr>\n",
              "\t<tr><td>Race1Mexican             </td><td>-0.1909654</td><td>0.4637845</td><td> -0.4117546</td><td>6.841735e-01</td></tr>\n",
              "\t<tr><td>Race1White               </td><td>-2.0761158</td><td>0.3200810</td><td> -6.4862209</td><td>1.043842e-06</td></tr>\n",
              "\t<tr><td>Race1Other               </td><td>-3.1050466</td><td>0.6202084</td><td> -5.0064570</td><td>4.089394e-05</td></tr>\n",
              "\t<tr><td>Alcohol12PlusYrYes       </td><td>-0.8549211</td><td>0.3575930</td><td> -2.3907660</td><td>2.501002e-02</td></tr>\n",
              "\t<tr><td>Gendermale               </td><td>-0.2557363</td><td>0.2302174</td><td> -1.1108470</td><td>2.776397e-01</td></tr>\n",
              "\t<tr><td>PhysActiveYes:SmokeNowYes</td><td> 0.7368701</td><td>0.3874182</td><td>  1.9020020</td><td>6.923930e-02</td></tr>\n",
              "</tbody>\n",
              "</table>\n"
            ],
            "text/markdown": "\nA tibble: 10 × 5\n\n| term &lt;chr&gt; | estimate &lt;dbl&gt; | std.error &lt;dbl&gt; | statistic &lt;dbl&gt; | p.value &lt;dbl&gt; |\n|---|---|---|---|---|\n| (Intercept)               | 33.2378322 | 0.3162940 | 105.0852370 | 1.745688e-33 |\n| PhysActiveYes             | -2.1140302 | 0.2729173 |  -7.7460482 | 5.559290e-08 |\n| SmokeNowYes               | -2.2266832 | 0.3034114 |  -7.3388252 | 1.402940e-07 |\n| Race1Hispanic             | -1.4670407 | 0.4200193 |  -3.4927937 | 1.875493e-03 |\n| Race1Mexican              | -0.1909654 | 0.4637845 |  -0.4117546 | 6.841735e-01 |\n| Race1White                | -2.0761158 | 0.3200810 |  -6.4862209 | 1.043842e-06 |\n| Race1Other                | -3.1050466 | 0.6202084 |  -5.0064570 | 4.089394e-05 |\n| Alcohol12PlusYrYes        | -0.8549211 | 0.3575930 |  -2.3907660 | 2.501002e-02 |\n| Gendermale                | -0.2557363 | 0.2302174 |  -1.1108470 | 2.776397e-01 |\n| PhysActiveYes:SmokeNowYes |  0.7368701 | 0.3874182 |   1.9020020 | 6.923930e-02 |\n\n",
            "text/latex": "A tibble: 10 × 5\n\\begin{tabular}{lllll}\n term & estimate & std.error & statistic & p.value\\\\\n <chr> & <dbl> & <dbl> & <dbl> & <dbl>\\\\\n\\hline\n\t (Intercept)               & 33.2378322 & 0.3162940 & 105.0852370 & 1.745688e-33\\\\\n\t PhysActiveYes             & -2.1140302 & 0.2729173 &  -7.7460482 & 5.559290e-08\\\\\n\t SmokeNowYes               & -2.2266832 & 0.3034114 &  -7.3388252 & 1.402940e-07\\\\\n\t Race1Hispanic             & -1.4670407 & 0.4200193 &  -3.4927937 & 1.875493e-03\\\\\n\t Race1Mexican              & -0.1909654 & 0.4637845 &  -0.4117546 & 6.841735e-01\\\\\n\t Race1White                & -2.0761158 & 0.3200810 &  -6.4862209 & 1.043842e-06\\\\\n\t Race1Other                & -3.1050466 & 0.6202084 &  -5.0064570 & 4.089394e-05\\\\\n\t Alcohol12PlusYrYes        & -0.8549211 & 0.3575930 &  -2.3907660 & 2.501002e-02\\\\\n\t Gendermale                & -0.2557363 & 0.2302174 &  -1.1108470 & 2.776397e-01\\\\\n\t PhysActiveYes:SmokeNowYes &  0.7368701 & 0.3874182 &   1.9020020 & 6.923930e-02\\\\\n\\end{tabular}\n",
            "text/plain": [
              "   term                      estimate   std.error statistic   p.value     \n",
              "1  (Intercept)               33.2378322 0.3162940 105.0852370 1.745688e-33\n",
              "2  PhysActiveYes             -2.1140302 0.2729173  -7.7460482 5.559290e-08\n",
              "3  SmokeNowYes               -2.2266832 0.3034114  -7.3388252 1.402940e-07\n",
              "4  Race1Hispanic             -1.4670407 0.4200193  -3.4927937 1.875493e-03\n",
              "5  Race1Mexican              -0.1909654 0.4637845  -0.4117546 6.841735e-01\n",
              "6  Race1White                -2.0761158 0.3200810  -6.4862209 1.043842e-06\n",
              "7  Race1Other                -3.1050466 0.6202084  -5.0064570 4.089394e-05\n",
              "8  Alcohol12PlusYrYes        -0.8549211 0.3575930  -2.3907660 2.501002e-02\n",
              "9  Gendermale                -0.2557363 0.2302174  -1.1108470 2.776397e-01\n",
              "10 PhysActiveYes:SmokeNowYes  0.7368701 0.3874182   1.9020020 6.923930e-02"
            ]
          },
          "metadata": {}
        }
      ]
    },
    {
      "cell_type": "code",
      "source": [],
      "metadata": {
        "id": "PxC3BlVB-jJZ"
      },
      "execution_count": null,
      "outputs": []
    }
  ]
}