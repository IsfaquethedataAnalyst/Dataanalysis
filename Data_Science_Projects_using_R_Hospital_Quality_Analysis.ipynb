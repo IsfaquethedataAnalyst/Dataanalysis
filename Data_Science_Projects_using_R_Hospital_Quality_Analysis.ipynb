{
  "nbformat": 4,
  "nbformat_minor": 0,
  "metadata": {
    "colab": {
      "provenance": [],
      "authorship_tag": "ABX9TyMwtPL4HgLnb8vnRAd5nl57",
      "include_colab_link": true
    },
    "kernelspec": {
      "name": "ir",
      "display_name": "R"
    },
    "language_info": {
      "name": "R"
    }
  },
  "cells": [
    {
      "cell_type": "markdown",
      "metadata": {
        "id": "view-in-github",
        "colab_type": "text"
      },
      "source": [
        "<a href=\"https://colab.research.google.com/github/IsfaquethedataAnalyst/Dataanalysis/blob/main/Data_Science_Projects_using_R_Hospital_Quality_Analysis.ipynb\" target=\"_parent\"><img src=\"https://colab.research.google.com/assets/colab-badge.svg\" alt=\"Open In Colab\"/></a>"
      ]
    },
    {
      "cell_type": "code",
      "execution_count": 1,
      "metadata": {
        "id": "Z65Uht73wzc8"
      },
      "outputs": [],
      "source": [
        "outcome<-read.csv(\"https://raw.githubusercontent.com/shambhavimalik/Data-Science-Projects-using-R/master/Hospital%20Quality%20Analysis/outcome-of-care-measures.csv\")"
      ]
    },
    {
      "cell_type": "code",
      "source": [
        "dim(outcome)"
      ],
      "metadata": {
        "colab": {
          "base_uri": "https://localhost:8080/",
          "height": 34
        },
        "id": "ufkKRBatygsz",
        "outputId": "40b98b74-480b-43b1-87e1-bc4285b3dc35"
      },
      "execution_count": 3,
      "outputs": [
        {
          "output_type": "display_data",
          "data": {
            "text/html": [
              "<style>\n",
              ".list-inline {list-style: none; margin:0; padding: 0}\n",
              ".list-inline>li {display: inline-block}\n",
              ".list-inline>li:not(:last-child)::after {content: \"\\00b7\"; padding: 0 .5ex}\n",
              "</style>\n",
              "<ol class=list-inline><li>4706</li><li>46</li></ol>\n"
            ],
            "text/markdown": "1. 4706\n2. 46\n\n\n",
            "text/latex": "\\begin{enumerate*}\n\\item 4706\n\\item 46\n\\end{enumerate*}\n",
            "text/plain": [
              "[1] 4706   46"
            ]
          },
          "metadata": {}
        }
      ]
    },
    {
      "cell_type": "code",
      "source": [
        "head(outcome)"
      ],
      "metadata": {
        "colab": {
          "base_uri": "https://localhost:8080/",
          "height": 566
        },
        "id": "H5pNjNqAzHcD",
        "outputId": "abf16a1e-6f34-4164-d1a2-4ab59a419794"
      },
      "execution_count": 4,
      "outputs": [
        {
          "output_type": "display_data",
          "data": {
            "text/html": [
              "<table class=\"dataframe\">\n",
              "<caption>A data.frame: 6 × 46</caption>\n",
              "<thead>\n",
              "\t<tr><th></th><th scope=col>Provider.Number</th><th scope=col>Hospital.Name</th><th scope=col>Address.1</th><th scope=col>Address.2</th><th scope=col>Address.3</th><th scope=col>City</th><th scope=col>State</th><th scope=col>ZIP.Code</th><th scope=col>County.Name</th><th scope=col>Phone.Number</th><th scope=col>⋯</th><th scope=col>Lower.Readmission.Estimate...Hospital.30.Day.Readmission.Rates.from.Heart.Failure</th><th scope=col>Upper.Readmission.Estimate...Hospital.30.Day.Readmission.Rates.from.Heart.Failure</th><th scope=col>Number.of.Patients...Hospital.30.Day.Readmission.Rates.from.Heart.Failure</th><th scope=col>Footnote...Hospital.30.Day.Readmission.Rates.from.Heart.Failure</th><th scope=col>Hospital.30.Day.Readmission.Rates.from.Pneumonia</th><th scope=col>Comparison.to.U.S..Rate...Hospital.30.Day.Readmission.Rates.from.Pneumonia</th><th scope=col>Lower.Readmission.Estimate...Hospital.30.Day.Readmission.Rates.from.Pneumonia</th><th scope=col>Upper.Readmission.Estimate...Hospital.30.Day.Readmission.Rates.from.Pneumonia</th><th scope=col>Number.of.Patients...Hospital.30.Day.Readmission.Rates.from.Pneumonia</th><th scope=col>Footnote...Hospital.30.Day.Readmission.Rates.from.Pneumonia</th></tr>\n",
              "\t<tr><th></th><th scope=col>&lt;chr&gt;</th><th scope=col>&lt;chr&gt;</th><th scope=col>&lt;chr&gt;</th><th scope=col>&lt;lgl&gt;</th><th scope=col>&lt;lgl&gt;</th><th scope=col>&lt;chr&gt;</th><th scope=col>&lt;chr&gt;</th><th scope=col>&lt;int&gt;</th><th scope=col>&lt;chr&gt;</th><th scope=col>&lt;dbl&gt;</th><th scope=col>⋯</th><th scope=col>&lt;chr&gt;</th><th scope=col>&lt;chr&gt;</th><th scope=col>&lt;chr&gt;</th><th scope=col>&lt;chr&gt;</th><th scope=col>&lt;chr&gt;</th><th scope=col>&lt;chr&gt;</th><th scope=col>&lt;chr&gt;</th><th scope=col>&lt;chr&gt;</th><th scope=col>&lt;chr&gt;</th><th scope=col>&lt;chr&gt;</th></tr>\n",
              "</thead>\n",
              "<tbody>\n",
              "\t<tr><th scope=row>1</th><td>010001</td><td>SOUTHEAST ALABAMA MEDICAL CENTER</td><td>1108 ROSS CLARK CIRCLE    </td><td>NA</td><td>NA</td><td>DOTHAN      </td><td>AL</td><td>36301</td><td>HOUSTON   </td><td>3347938701</td><td>⋯</td><td>21.3</td><td>26.5</td><td>891</td><td></td><td>17.1</td><td>No Different than U.S. National Rate</td><td>14.4</td><td>20.4</td><td>400</td><td></td></tr>\n",
              "\t<tr><th scope=row>2</th><td>010005</td><td>MARSHALL MEDICAL CENTER SOUTH   </td><td>2505 U S HIGHWAY 431 NORTH</td><td>NA</td><td>NA</td><td>BOAZ        </td><td>AL</td><td>35957</td><td>MARSHALL  </td><td>2565938310</td><td>⋯</td><td>19.2</td><td>26.1</td><td>264</td><td></td><td>17.6</td><td>No Different than U.S. National Rate</td><td>15.0</td><td>20.6</td><td>374</td><td></td></tr>\n",
              "\t<tr><th scope=row>3</th><td>010006</td><td>ELIZA COFFEE MEMORIAL HOSPITAL  </td><td>205 MARENGO STREET        </td><td>NA</td><td>NA</td><td>FLORENCE    </td><td>AL</td><td>35631</td><td>LAUDERDALE</td><td>2567688400</td><td>⋯</td><td>17.2</td><td>22.9</td><td>614</td><td></td><td>16.9</td><td>No Different than U.S. National Rate</td><td>14.7</td><td>19.5</td><td>842</td><td></td></tr>\n",
              "\t<tr><th scope=row>4</th><td>010007</td><td>MIZELL MEMORIAL HOSPITAL        </td><td>702 N MAIN ST             </td><td>NA</td><td>NA</td><td>OPP         </td><td>AL</td><td>36467</td><td>COVINGTON </td><td>3344933541</td><td>⋯</td><td>22.4</td><td>31.9</td><td>135</td><td></td><td>19.4</td><td>No Different than U.S. National Rate</td><td>15.9</td><td>23.2</td><td>254</td><td></td></tr>\n",
              "\t<tr><th scope=row>5</th><td>010008</td><td>CRENSHAW COMMUNITY HOSPITAL     </td><td>101 HOSPITAL CIRCLE       </td><td>NA</td><td>NA</td><td>LUVERNE     </td><td>AL</td><td>36049</td><td>CRENSHAW  </td><td>3343353374</td><td>⋯</td><td>19.9</td><td>30.2</td><td>59 </td><td></td><td>18.0</td><td>No Different than U.S. National Rate</td><td>14.0</td><td>22.8</td><td>56 </td><td></td></tr>\n",
              "\t<tr><th scope=row>6</th><td>010010</td><td>MARSHALL MEDICAL CENTER NORTH   </td><td>8000 ALABAMA HIGHWAY 69   </td><td>NA</td><td>NA</td><td>GUNTERSVILLE</td><td>AL</td><td>35976</td><td>MARSHALL  </td><td>2565718000</td><td>⋯</td><td>20.1</td><td>28.2</td><td>173</td><td></td><td>18.7</td><td>No Different than U.S. National Rate</td><td>15.7</td><td>22.2</td><td>326</td><td></td></tr>\n",
              "</tbody>\n",
              "</table>\n"
            ],
            "text/markdown": "\nA data.frame: 6 × 46\n\n| <!--/--> | Provider.Number &lt;chr&gt; | Hospital.Name &lt;chr&gt; | Address.1 &lt;chr&gt; | Address.2 &lt;lgl&gt; | Address.3 &lt;lgl&gt; | City &lt;chr&gt; | State &lt;chr&gt; | ZIP.Code &lt;int&gt; | County.Name &lt;chr&gt; | Phone.Number &lt;dbl&gt; | ⋯ ⋯ | Lower.Readmission.Estimate...Hospital.30.Day.Readmission.Rates.from.Heart.Failure &lt;chr&gt; | Upper.Readmission.Estimate...Hospital.30.Day.Readmission.Rates.from.Heart.Failure &lt;chr&gt; | Number.of.Patients...Hospital.30.Day.Readmission.Rates.from.Heart.Failure &lt;chr&gt; | Footnote...Hospital.30.Day.Readmission.Rates.from.Heart.Failure &lt;chr&gt; | Hospital.30.Day.Readmission.Rates.from.Pneumonia &lt;chr&gt; | Comparison.to.U.S..Rate...Hospital.30.Day.Readmission.Rates.from.Pneumonia &lt;chr&gt; | Lower.Readmission.Estimate...Hospital.30.Day.Readmission.Rates.from.Pneumonia &lt;chr&gt; | Upper.Readmission.Estimate...Hospital.30.Day.Readmission.Rates.from.Pneumonia &lt;chr&gt; | Number.of.Patients...Hospital.30.Day.Readmission.Rates.from.Pneumonia &lt;chr&gt; | Footnote...Hospital.30.Day.Readmission.Rates.from.Pneumonia &lt;chr&gt; |\n|---|---|---|---|---|---|---|---|---|---|---|---|---|---|---|---|---|---|---|---|---|---|\n| 1 | 010001 | SOUTHEAST ALABAMA MEDICAL CENTER | 1108 ROSS CLARK CIRCLE     | NA | NA | DOTHAN       | AL | 36301 | HOUSTON    | 3347938701 | ⋯ | 21.3 | 26.5 | 891 | <!----> | 17.1 | No Different than U.S. National Rate | 14.4 | 20.4 | 400 | <!----> |\n| 2 | 010005 | MARSHALL MEDICAL CENTER SOUTH    | 2505 U S HIGHWAY 431 NORTH | NA | NA | BOAZ         | AL | 35957 | MARSHALL   | 2565938310 | ⋯ | 19.2 | 26.1 | 264 | <!----> | 17.6 | No Different than U.S. National Rate | 15.0 | 20.6 | 374 | <!----> |\n| 3 | 010006 | ELIZA COFFEE MEMORIAL HOSPITAL   | 205 MARENGO STREET         | NA | NA | FLORENCE     | AL | 35631 | LAUDERDALE | 2567688400 | ⋯ | 17.2 | 22.9 | 614 | <!----> | 16.9 | No Different than U.S. National Rate | 14.7 | 19.5 | 842 | <!----> |\n| 4 | 010007 | MIZELL MEMORIAL HOSPITAL         | 702 N MAIN ST              | NA | NA | OPP          | AL | 36467 | COVINGTON  | 3344933541 | ⋯ | 22.4 | 31.9 | 135 | <!----> | 19.4 | No Different than U.S. National Rate | 15.9 | 23.2 | 254 | <!----> |\n| 5 | 010008 | CRENSHAW COMMUNITY HOSPITAL      | 101 HOSPITAL CIRCLE        | NA | NA | LUVERNE      | AL | 36049 | CRENSHAW   | 3343353374 | ⋯ | 19.9 | 30.2 | 59  | <!----> | 18.0 | No Different than U.S. National Rate | 14.0 | 22.8 | 56  | <!----> |\n| 6 | 010010 | MARSHALL MEDICAL CENTER NORTH    | 8000 ALABAMA HIGHWAY 69    | NA | NA | GUNTERSVILLE | AL | 35976 | MARSHALL   | 2565718000 | ⋯ | 20.1 | 28.2 | 173 | <!----> | 18.7 | No Different than U.S. National Rate | 15.7 | 22.2 | 326 | <!----> |\n\n",
            "text/latex": "A data.frame: 6 × 46\n\\begin{tabular}{r|lllllllllllllllllllll}\n  & Provider.Number & Hospital.Name & Address.1 & Address.2 & Address.3 & City & State & ZIP.Code & County.Name & Phone.Number & ⋯ & Lower.Readmission.Estimate...Hospital.30.Day.Readmission.Rates.from.Heart.Failure & Upper.Readmission.Estimate...Hospital.30.Day.Readmission.Rates.from.Heart.Failure & Number.of.Patients...Hospital.30.Day.Readmission.Rates.from.Heart.Failure & Footnote...Hospital.30.Day.Readmission.Rates.from.Heart.Failure & Hospital.30.Day.Readmission.Rates.from.Pneumonia & Comparison.to.U.S..Rate...Hospital.30.Day.Readmission.Rates.from.Pneumonia & Lower.Readmission.Estimate...Hospital.30.Day.Readmission.Rates.from.Pneumonia & Upper.Readmission.Estimate...Hospital.30.Day.Readmission.Rates.from.Pneumonia & Number.of.Patients...Hospital.30.Day.Readmission.Rates.from.Pneumonia & Footnote...Hospital.30.Day.Readmission.Rates.from.Pneumonia\\\\\n  & <chr> & <chr> & <chr> & <lgl> & <lgl> & <chr> & <chr> & <int> & <chr> & <dbl> & ⋯ & <chr> & <chr> & <chr> & <chr> & <chr> & <chr> & <chr> & <chr> & <chr> & <chr>\\\\\n\\hline\n\t1 & 010001 & SOUTHEAST ALABAMA MEDICAL CENTER & 1108 ROSS CLARK CIRCLE     & NA & NA & DOTHAN       & AL & 36301 & HOUSTON    & 3347938701 & ⋯ & 21.3 & 26.5 & 891 &  & 17.1 & No Different than U.S. National Rate & 14.4 & 20.4 & 400 & \\\\\n\t2 & 010005 & MARSHALL MEDICAL CENTER SOUTH    & 2505 U S HIGHWAY 431 NORTH & NA & NA & BOAZ         & AL & 35957 & MARSHALL   & 2565938310 & ⋯ & 19.2 & 26.1 & 264 &  & 17.6 & No Different than U.S. National Rate & 15.0 & 20.6 & 374 & \\\\\n\t3 & 010006 & ELIZA COFFEE MEMORIAL HOSPITAL   & 205 MARENGO STREET         & NA & NA & FLORENCE     & AL & 35631 & LAUDERDALE & 2567688400 & ⋯ & 17.2 & 22.9 & 614 &  & 16.9 & No Different than U.S. National Rate & 14.7 & 19.5 & 842 & \\\\\n\t4 & 010007 & MIZELL MEMORIAL HOSPITAL         & 702 N MAIN ST              & NA & NA & OPP          & AL & 36467 & COVINGTON  & 3344933541 & ⋯ & 22.4 & 31.9 & 135 &  & 19.4 & No Different than U.S. National Rate & 15.9 & 23.2 & 254 & \\\\\n\t5 & 010008 & CRENSHAW COMMUNITY HOSPITAL      & 101 HOSPITAL CIRCLE        & NA & NA & LUVERNE      & AL & 36049 & CRENSHAW   & 3343353374 & ⋯ & 19.9 & 30.2 & 59  &  & 18.0 & No Different than U.S. National Rate & 14.0 & 22.8 & 56  & \\\\\n\t6 & 010010 & MARSHALL MEDICAL CENTER NORTH    & 8000 ALABAMA HIGHWAY 69    & NA & NA & GUNTERSVILLE & AL & 35976 & MARSHALL   & 2565718000 & ⋯ & 20.1 & 28.2 & 173 &  & 18.7 & No Different than U.S. National Rate & 15.7 & 22.2 & 326 & \\\\\n\\end{tabular}\n",
            "text/plain": [
              "  Provider.Number Hospital.Name                    Address.1                 \n",
              "1 010001          SOUTHEAST ALABAMA MEDICAL CENTER 1108 ROSS CLARK CIRCLE    \n",
              "2 010005          MARSHALL MEDICAL CENTER SOUTH    2505 U S HIGHWAY 431 NORTH\n",
              "3 010006          ELIZA COFFEE MEMORIAL HOSPITAL   205 MARENGO STREET        \n",
              "4 010007          MIZELL MEMORIAL HOSPITAL         702 N MAIN ST             \n",
              "5 010008          CRENSHAW COMMUNITY HOSPITAL      101 HOSPITAL CIRCLE       \n",
              "6 010010          MARSHALL MEDICAL CENTER NORTH    8000 ALABAMA HIGHWAY 69   \n",
              "  Address.2 Address.3 City         State ZIP.Code County.Name Phone.Number ⋯\n",
              "1 NA        NA        DOTHAN       AL    36301    HOUSTON     3347938701   ⋯\n",
              "2 NA        NA        BOAZ         AL    35957    MARSHALL    2565938310   ⋯\n",
              "3 NA        NA        FLORENCE     AL    35631    LAUDERDALE  2567688400   ⋯\n",
              "4 NA        NA        OPP          AL    36467    COVINGTON   3344933541   ⋯\n",
              "5 NA        NA        LUVERNE      AL    36049    CRENSHAW    3343353374   ⋯\n",
              "6 NA        NA        GUNTERSVILLE AL    35976    MARSHALL    2565718000   ⋯\n",
              "  Lower.Readmission.Estimate...Hospital.30.Day.Readmission.Rates.from.Heart.Failure\n",
              "1 21.3                                                                             \n",
              "2 19.2                                                                             \n",
              "3 17.2                                                                             \n",
              "4 22.4                                                                             \n",
              "5 19.9                                                                             \n",
              "6 20.1                                                                             \n",
              "  Upper.Readmission.Estimate...Hospital.30.Day.Readmission.Rates.from.Heart.Failure\n",
              "1 26.5                                                                             \n",
              "2 26.1                                                                             \n",
              "3 22.9                                                                             \n",
              "4 31.9                                                                             \n",
              "5 30.2                                                                             \n",
              "6 28.2                                                                             \n",
              "  Number.of.Patients...Hospital.30.Day.Readmission.Rates.from.Heart.Failure\n",
              "1 891                                                                      \n",
              "2 264                                                                      \n",
              "3 614                                                                      \n",
              "4 135                                                                      \n",
              "5 59                                                                       \n",
              "6 173                                                                      \n",
              "  Footnote...Hospital.30.Day.Readmission.Rates.from.Heart.Failure\n",
              "1                                                                \n",
              "2                                                                \n",
              "3                                                                \n",
              "4                                                                \n",
              "5                                                                \n",
              "6                                                                \n",
              "  Hospital.30.Day.Readmission.Rates.from.Pneumonia\n",
              "1 17.1                                            \n",
              "2 17.6                                            \n",
              "3 16.9                                            \n",
              "4 19.4                                            \n",
              "5 18.0                                            \n",
              "6 18.7                                            \n",
              "  Comparison.to.U.S..Rate...Hospital.30.Day.Readmission.Rates.from.Pneumonia\n",
              "1 No Different than U.S. National Rate                                      \n",
              "2 No Different than U.S. National Rate                                      \n",
              "3 No Different than U.S. National Rate                                      \n",
              "4 No Different than U.S. National Rate                                      \n",
              "5 No Different than U.S. National Rate                                      \n",
              "6 No Different than U.S. National Rate                                      \n",
              "  Lower.Readmission.Estimate...Hospital.30.Day.Readmission.Rates.from.Pneumonia\n",
              "1 14.4                                                                         \n",
              "2 15.0                                                                         \n",
              "3 14.7                                                                         \n",
              "4 15.9                                                                         \n",
              "5 14.0                                                                         \n",
              "6 15.7                                                                         \n",
              "  Upper.Readmission.Estimate...Hospital.30.Day.Readmission.Rates.from.Pneumonia\n",
              "1 20.4                                                                         \n",
              "2 20.6                                                                         \n",
              "3 19.5                                                                         \n",
              "4 23.2                                                                         \n",
              "5 22.8                                                                         \n",
              "6 22.2                                                                         \n",
              "  Number.of.Patients...Hospital.30.Day.Readmission.Rates.from.Pneumonia\n",
              "1 400                                                                  \n",
              "2 374                                                                  \n",
              "3 842                                                                  \n",
              "4 254                                                                  \n",
              "5 56                                                                   \n",
              "6 326                                                                  \n",
              "  Footnote...Hospital.30.Day.Readmission.Rates.from.Pneumonia\n",
              "1                                                            \n",
              "2                                                            \n",
              "3                                                            \n",
              "4                                                            \n",
              "5                                                            \n",
              "6                                                            "
            ]
          },
          "metadata": {}
        }
      ]
    },
    {
      "cell_type": "code",
      "source": [
        "names(outcome)"
      ],
      "metadata": {
        "colab": {
          "base_uri": "https://localhost:8080/",
          "height": 347
        },
        "id": "c5f0g6MnzL_o",
        "outputId": "b98783ea-aa45-4270-da3d-6776f981f679"
      },
      "execution_count": 5,
      "outputs": [
        {
          "output_type": "display_data",
          "data": {
            "text/html": [
              "<style>\n",
              ".list-inline {list-style: none; margin:0; padding: 0}\n",
              ".list-inline>li {display: inline-block}\n",
              ".list-inline>li:not(:last-child)::after {content: \"\\00b7\"; padding: 0 .5ex}\n",
              "</style>\n",
              "<ol class=list-inline><li>'Provider.Number'</li><li>'Hospital.Name'</li><li>'Address.1'</li><li>'Address.2'</li><li>'Address.3'</li><li>'City'</li><li>'State'</li><li>'ZIP.Code'</li><li>'County.Name'</li><li>'Phone.Number'</li><li>'Hospital.30.Day.Death..Mortality..Rates.from.Heart.Attack'</li><li>'Comparison.to.U.S..Rate...Hospital.30.Day.Death..Mortality..Rates.from.Heart.Attack'</li><li>'Lower.Mortality.Estimate...Hospital.30.Day.Death..Mortality..Rates.from.Heart.Attack'</li><li>'Upper.Mortality.Estimate...Hospital.30.Day.Death..Mortality..Rates.from.Heart.Attack'</li><li>'Number.of.Patients...Hospital.30.Day.Death..Mortality..Rates.from.Heart.Attack'</li><li>'Footnote...Hospital.30.Day.Death..Mortality..Rates.from.Heart.Attack'</li><li>'Hospital.30.Day.Death..Mortality..Rates.from.Heart.Failure'</li><li>'Comparison.to.U.S..Rate...Hospital.30.Day.Death..Mortality..Rates.from.Heart.Failure'</li><li>'Lower.Mortality.Estimate...Hospital.30.Day.Death..Mortality..Rates.from.Heart.Failure'</li><li>'Upper.Mortality.Estimate...Hospital.30.Day.Death..Mortality..Rates.from.Heart.Failure'</li><li>'Number.of.Patients...Hospital.30.Day.Death..Mortality..Rates.from.Heart.Failure'</li><li>'Footnote...Hospital.30.Day.Death..Mortality..Rates.from.Heart.Failure'</li><li>'Hospital.30.Day.Death..Mortality..Rates.from.Pneumonia'</li><li>'Comparison.to.U.S..Rate...Hospital.30.Day.Death..Mortality..Rates.from.Pneumonia'</li><li>'Lower.Mortality.Estimate...Hospital.30.Day.Death..Mortality..Rates.from.Pneumonia'</li><li>'Upper.Mortality.Estimate...Hospital.30.Day.Death..Mortality..Rates.from.Pneumonia'</li><li>'Number.of.Patients...Hospital.30.Day.Death..Mortality..Rates.from.Pneumonia'</li><li>'Footnote...Hospital.30.Day.Death..Mortality..Rates.from.Pneumonia'</li><li>'Hospital.30.Day.Readmission.Rates.from.Heart.Attack'</li><li>'Comparison.to.U.S..Rate...Hospital.30.Day.Readmission.Rates.from.Heart.Attack'</li><li>'Lower.Readmission.Estimate...Hospital.30.Day.Readmission.Rates.from.Heart.Attack'</li><li>'Upper.Readmission.Estimate...Hospital.30.Day.Readmission.Rates.from.Heart.Attack'</li><li>'Number.of.Patients...Hospital.30.Day.Readmission.Rates.from.Heart.Attack'</li><li>'Footnote...Hospital.30.Day.Readmission.Rates.from.Heart.Attack'</li><li>'Hospital.30.Day.Readmission.Rates.from.Heart.Failure'</li><li>'Comparison.to.U.S..Rate...Hospital.30.Day.Readmission.Rates.from.Heart.Failure'</li><li>'Lower.Readmission.Estimate...Hospital.30.Day.Readmission.Rates.from.Heart.Failure'</li><li>'Upper.Readmission.Estimate...Hospital.30.Day.Readmission.Rates.from.Heart.Failure'</li><li>'Number.of.Patients...Hospital.30.Day.Readmission.Rates.from.Heart.Failure'</li><li>'Footnote...Hospital.30.Day.Readmission.Rates.from.Heart.Failure'</li><li>'Hospital.30.Day.Readmission.Rates.from.Pneumonia'</li><li>'Comparison.to.U.S..Rate...Hospital.30.Day.Readmission.Rates.from.Pneumonia'</li><li>'Lower.Readmission.Estimate...Hospital.30.Day.Readmission.Rates.from.Pneumonia'</li><li>'Upper.Readmission.Estimate...Hospital.30.Day.Readmission.Rates.from.Pneumonia'</li><li>'Number.of.Patients...Hospital.30.Day.Readmission.Rates.from.Pneumonia'</li><li>'Footnote...Hospital.30.Day.Readmission.Rates.from.Pneumonia'</li></ol>\n"
            ],
            "text/markdown": "1. 'Provider.Number'\n2. 'Hospital.Name'\n3. 'Address.1'\n4. 'Address.2'\n5. 'Address.3'\n6. 'City'\n7. 'State'\n8. 'ZIP.Code'\n9. 'County.Name'\n10. 'Phone.Number'\n11. 'Hospital.30.Day.Death..Mortality..Rates.from.Heart.Attack'\n12. 'Comparison.to.U.S..Rate...Hospital.30.Day.Death..Mortality..Rates.from.Heart.Attack'\n13. 'Lower.Mortality.Estimate...Hospital.30.Day.Death..Mortality..Rates.from.Heart.Attack'\n14. 'Upper.Mortality.Estimate...Hospital.30.Day.Death..Mortality..Rates.from.Heart.Attack'\n15. 'Number.of.Patients...Hospital.30.Day.Death..Mortality..Rates.from.Heart.Attack'\n16. 'Footnote...Hospital.30.Day.Death..Mortality..Rates.from.Heart.Attack'\n17. 'Hospital.30.Day.Death..Mortality..Rates.from.Heart.Failure'\n18. 'Comparison.to.U.S..Rate...Hospital.30.Day.Death..Mortality..Rates.from.Heart.Failure'\n19. 'Lower.Mortality.Estimate...Hospital.30.Day.Death..Mortality..Rates.from.Heart.Failure'\n20. 'Upper.Mortality.Estimate...Hospital.30.Day.Death..Mortality..Rates.from.Heart.Failure'\n21. 'Number.of.Patients...Hospital.30.Day.Death..Mortality..Rates.from.Heart.Failure'\n22. 'Footnote...Hospital.30.Day.Death..Mortality..Rates.from.Heart.Failure'\n23. 'Hospital.30.Day.Death..Mortality..Rates.from.Pneumonia'\n24. 'Comparison.to.U.S..Rate...Hospital.30.Day.Death..Mortality..Rates.from.Pneumonia'\n25. 'Lower.Mortality.Estimate...Hospital.30.Day.Death..Mortality..Rates.from.Pneumonia'\n26. 'Upper.Mortality.Estimate...Hospital.30.Day.Death..Mortality..Rates.from.Pneumonia'\n27. 'Number.of.Patients...Hospital.30.Day.Death..Mortality..Rates.from.Pneumonia'\n28. 'Footnote...Hospital.30.Day.Death..Mortality..Rates.from.Pneumonia'\n29. 'Hospital.30.Day.Readmission.Rates.from.Heart.Attack'\n30. 'Comparison.to.U.S..Rate...Hospital.30.Day.Readmission.Rates.from.Heart.Attack'\n31. 'Lower.Readmission.Estimate...Hospital.30.Day.Readmission.Rates.from.Heart.Attack'\n32. 'Upper.Readmission.Estimate...Hospital.30.Day.Readmission.Rates.from.Heart.Attack'\n33. 'Number.of.Patients...Hospital.30.Day.Readmission.Rates.from.Heart.Attack'\n34. 'Footnote...Hospital.30.Day.Readmission.Rates.from.Heart.Attack'\n35. 'Hospital.30.Day.Readmission.Rates.from.Heart.Failure'\n36. 'Comparison.to.U.S..Rate...Hospital.30.Day.Readmission.Rates.from.Heart.Failure'\n37. 'Lower.Readmission.Estimate...Hospital.30.Day.Readmission.Rates.from.Heart.Failure'\n38. 'Upper.Readmission.Estimate...Hospital.30.Day.Readmission.Rates.from.Heart.Failure'\n39. 'Number.of.Patients...Hospital.30.Day.Readmission.Rates.from.Heart.Failure'\n40. 'Footnote...Hospital.30.Day.Readmission.Rates.from.Heart.Failure'\n41. 'Hospital.30.Day.Readmission.Rates.from.Pneumonia'\n42. 'Comparison.to.U.S..Rate...Hospital.30.Day.Readmission.Rates.from.Pneumonia'\n43. 'Lower.Readmission.Estimate...Hospital.30.Day.Readmission.Rates.from.Pneumonia'\n44. 'Upper.Readmission.Estimate...Hospital.30.Day.Readmission.Rates.from.Pneumonia'\n45. 'Number.of.Patients...Hospital.30.Day.Readmission.Rates.from.Pneumonia'\n46. 'Footnote...Hospital.30.Day.Readmission.Rates.from.Pneumonia'\n\n\n",
            "text/latex": "\\begin{enumerate*}\n\\item 'Provider.Number'\n\\item 'Hospital.Name'\n\\item 'Address.1'\n\\item 'Address.2'\n\\item 'Address.3'\n\\item 'City'\n\\item 'State'\n\\item 'ZIP.Code'\n\\item 'County.Name'\n\\item 'Phone.Number'\n\\item 'Hospital.30.Day.Death..Mortality..Rates.from.Heart.Attack'\n\\item 'Comparison.to.U.S..Rate...Hospital.30.Day.Death..Mortality..Rates.from.Heart.Attack'\n\\item 'Lower.Mortality.Estimate...Hospital.30.Day.Death..Mortality..Rates.from.Heart.Attack'\n\\item 'Upper.Mortality.Estimate...Hospital.30.Day.Death..Mortality..Rates.from.Heart.Attack'\n\\item 'Number.of.Patients...Hospital.30.Day.Death..Mortality..Rates.from.Heart.Attack'\n\\item 'Footnote...Hospital.30.Day.Death..Mortality..Rates.from.Heart.Attack'\n\\item 'Hospital.30.Day.Death..Mortality..Rates.from.Heart.Failure'\n\\item 'Comparison.to.U.S..Rate...Hospital.30.Day.Death..Mortality..Rates.from.Heart.Failure'\n\\item 'Lower.Mortality.Estimate...Hospital.30.Day.Death..Mortality..Rates.from.Heart.Failure'\n\\item 'Upper.Mortality.Estimate...Hospital.30.Day.Death..Mortality..Rates.from.Heart.Failure'\n\\item 'Number.of.Patients...Hospital.30.Day.Death..Mortality..Rates.from.Heart.Failure'\n\\item 'Footnote...Hospital.30.Day.Death..Mortality..Rates.from.Heart.Failure'\n\\item 'Hospital.30.Day.Death..Mortality..Rates.from.Pneumonia'\n\\item 'Comparison.to.U.S..Rate...Hospital.30.Day.Death..Mortality..Rates.from.Pneumonia'\n\\item 'Lower.Mortality.Estimate...Hospital.30.Day.Death..Mortality..Rates.from.Pneumonia'\n\\item 'Upper.Mortality.Estimate...Hospital.30.Day.Death..Mortality..Rates.from.Pneumonia'\n\\item 'Number.of.Patients...Hospital.30.Day.Death..Mortality..Rates.from.Pneumonia'\n\\item 'Footnote...Hospital.30.Day.Death..Mortality..Rates.from.Pneumonia'\n\\item 'Hospital.30.Day.Readmission.Rates.from.Heart.Attack'\n\\item 'Comparison.to.U.S..Rate...Hospital.30.Day.Readmission.Rates.from.Heart.Attack'\n\\item 'Lower.Readmission.Estimate...Hospital.30.Day.Readmission.Rates.from.Heart.Attack'\n\\item 'Upper.Readmission.Estimate...Hospital.30.Day.Readmission.Rates.from.Heart.Attack'\n\\item 'Number.of.Patients...Hospital.30.Day.Readmission.Rates.from.Heart.Attack'\n\\item 'Footnote...Hospital.30.Day.Readmission.Rates.from.Heart.Attack'\n\\item 'Hospital.30.Day.Readmission.Rates.from.Heart.Failure'\n\\item 'Comparison.to.U.S..Rate...Hospital.30.Day.Readmission.Rates.from.Heart.Failure'\n\\item 'Lower.Readmission.Estimate...Hospital.30.Day.Readmission.Rates.from.Heart.Failure'\n\\item 'Upper.Readmission.Estimate...Hospital.30.Day.Readmission.Rates.from.Heart.Failure'\n\\item 'Number.of.Patients...Hospital.30.Day.Readmission.Rates.from.Heart.Failure'\n\\item 'Footnote...Hospital.30.Day.Readmission.Rates.from.Heart.Failure'\n\\item 'Hospital.30.Day.Readmission.Rates.from.Pneumonia'\n\\item 'Comparison.to.U.S..Rate...Hospital.30.Day.Readmission.Rates.from.Pneumonia'\n\\item 'Lower.Readmission.Estimate...Hospital.30.Day.Readmission.Rates.from.Pneumonia'\n\\item 'Upper.Readmission.Estimate...Hospital.30.Day.Readmission.Rates.from.Pneumonia'\n\\item 'Number.of.Patients...Hospital.30.Day.Readmission.Rates.from.Pneumonia'\n\\item 'Footnote...Hospital.30.Day.Readmission.Rates.from.Pneumonia'\n\\end{enumerate*}\n",
            "text/plain": [
              " [1] \"Provider.Number\"                                                                      \n",
              " [2] \"Hospital.Name\"                                                                        \n",
              " [3] \"Address.1\"                                                                            \n",
              " [4] \"Address.2\"                                                                            \n",
              " [5] \"Address.3\"                                                                            \n",
              " [6] \"City\"                                                                                 \n",
              " [7] \"State\"                                                                                \n",
              " [8] \"ZIP.Code\"                                                                             \n",
              " [9] \"County.Name\"                                                                          \n",
              "[10] \"Phone.Number\"                                                                         \n",
              "[11] \"Hospital.30.Day.Death..Mortality..Rates.from.Heart.Attack\"                            \n",
              "[12] \"Comparison.to.U.S..Rate...Hospital.30.Day.Death..Mortality..Rates.from.Heart.Attack\"  \n",
              "[13] \"Lower.Mortality.Estimate...Hospital.30.Day.Death..Mortality..Rates.from.Heart.Attack\" \n",
              "[14] \"Upper.Mortality.Estimate...Hospital.30.Day.Death..Mortality..Rates.from.Heart.Attack\" \n",
              "[15] \"Number.of.Patients...Hospital.30.Day.Death..Mortality..Rates.from.Heart.Attack\"       \n",
              "[16] \"Footnote...Hospital.30.Day.Death..Mortality..Rates.from.Heart.Attack\"                 \n",
              "[17] \"Hospital.30.Day.Death..Mortality..Rates.from.Heart.Failure\"                           \n",
              "[18] \"Comparison.to.U.S..Rate...Hospital.30.Day.Death..Mortality..Rates.from.Heart.Failure\" \n",
              "[19] \"Lower.Mortality.Estimate...Hospital.30.Day.Death..Mortality..Rates.from.Heart.Failure\"\n",
              "[20] \"Upper.Mortality.Estimate...Hospital.30.Day.Death..Mortality..Rates.from.Heart.Failure\"\n",
              "[21] \"Number.of.Patients...Hospital.30.Day.Death..Mortality..Rates.from.Heart.Failure\"      \n",
              "[22] \"Footnote...Hospital.30.Day.Death..Mortality..Rates.from.Heart.Failure\"                \n",
              "[23] \"Hospital.30.Day.Death..Mortality..Rates.from.Pneumonia\"                               \n",
              "[24] \"Comparison.to.U.S..Rate...Hospital.30.Day.Death..Mortality..Rates.from.Pneumonia\"     \n",
              "[25] \"Lower.Mortality.Estimate...Hospital.30.Day.Death..Mortality..Rates.from.Pneumonia\"    \n",
              "[26] \"Upper.Mortality.Estimate...Hospital.30.Day.Death..Mortality..Rates.from.Pneumonia\"    \n",
              "[27] \"Number.of.Patients...Hospital.30.Day.Death..Mortality..Rates.from.Pneumonia\"          \n",
              "[28] \"Footnote...Hospital.30.Day.Death..Mortality..Rates.from.Pneumonia\"                    \n",
              "[29] \"Hospital.30.Day.Readmission.Rates.from.Heart.Attack\"                                  \n",
              "[30] \"Comparison.to.U.S..Rate...Hospital.30.Day.Readmission.Rates.from.Heart.Attack\"        \n",
              "[31] \"Lower.Readmission.Estimate...Hospital.30.Day.Readmission.Rates.from.Heart.Attack\"     \n",
              "[32] \"Upper.Readmission.Estimate...Hospital.30.Day.Readmission.Rates.from.Heart.Attack\"     \n",
              "[33] \"Number.of.Patients...Hospital.30.Day.Readmission.Rates.from.Heart.Attack\"             \n",
              "[34] \"Footnote...Hospital.30.Day.Readmission.Rates.from.Heart.Attack\"                       \n",
              "[35] \"Hospital.30.Day.Readmission.Rates.from.Heart.Failure\"                                 \n",
              "[36] \"Comparison.to.U.S..Rate...Hospital.30.Day.Readmission.Rates.from.Heart.Failure\"       \n",
              "[37] \"Lower.Readmission.Estimate...Hospital.30.Day.Readmission.Rates.from.Heart.Failure\"    \n",
              "[38] \"Upper.Readmission.Estimate...Hospital.30.Day.Readmission.Rates.from.Heart.Failure\"    \n",
              "[39] \"Number.of.Patients...Hospital.30.Day.Readmission.Rates.from.Heart.Failure\"            \n",
              "[40] \"Footnote...Hospital.30.Day.Readmission.Rates.from.Heart.Failure\"                      \n",
              "[41] \"Hospital.30.Day.Readmission.Rates.from.Pneumonia\"                                     \n",
              "[42] \"Comparison.to.U.S..Rate...Hospital.30.Day.Readmission.Rates.from.Pneumonia\"           \n",
              "[43] \"Lower.Readmission.Estimate...Hospital.30.Day.Readmission.Rates.from.Pneumonia\"        \n",
              "[44] \"Upper.Readmission.Estimate...Hospital.30.Day.Readmission.Rates.from.Pneumonia\"        \n",
              "[45] \"Number.of.Patients...Hospital.30.Day.Readmission.Rates.from.Pneumonia\"                \n",
              "[46] \"Footnote...Hospital.30.Day.Readmission.Rates.from.Pneumonia\"                          "
            ]
          },
          "metadata": {}
        }
      ]
    },
    {
      "cell_type": "code",
      "source": [
        "outcome[, 11] <- as.numeric(outcome[, 11])"
      ],
      "metadata": {
        "colab": {
          "base_uri": "https://localhost:8080/"
        },
        "id": "oMlrULHJzkvz",
        "outputId": "87c74177-2fea-4739-fdac-ce4f03b6fe23"
      },
      "execution_count": 6,
      "outputs": [
        {
          "output_type": "stream",
          "name": "stderr",
          "text": [
            "Warning message in eval(expr, envir, enclos):\n",
            "“NAs introduced by coercion”\n"
          ]
        }
      ]
    },
    {
      "cell_type": "code",
      "source": [
        "hist(outcome[, 11],col = \"salmon\")"
      ],
      "metadata": {
        "colab": {
          "base_uri": "https://localhost:8080/",
          "height": 437
        },
        "id": "nxTstZQ5zrkF",
        "outputId": "a25b9b8d-37d2-438e-e6e9-c5cfae117860"
      },
      "execution_count": 7,
      "outputs": [
        {
          "output_type": "display_data",
          "data": {
            "text/plain": [
              "Plot with title “Histogram of outcome[, 11]”"
            ],
            "image/png": "[encoded data removed]"
          },
          "metadata": {
            "image/png": {
              "width": 420,
              "height": 420
            }
          }
        }
      ]
    },
    {
      "cell_type": "code",
      "source": [
        "best <- function(state, outcome) {\n",
        "    ## Read outcome data\n",
        "    ## Check that state and outcome are valid\n",
        "    ## Return hospital name in that state with lowest 30-day death\n",
        "    ## rate\n",
        "    outcome_data <- read.csv(\"outcome-of-care-measures.csv\", colClasses = \"character\")\n",
        "    if (!state %in% outcome_data$State)\n",
        "    {message(\"invalid state\")}\n",
        "    else if(outcome == \"heart attack\") {\n",
        "        col <- 11\n",
        "    }\n",
        "    else if (outcome == \"heart failure\") {\n",
        "        col <- 17\n",
        "    }\n",
        "    else if (outcome == \"pneumonia\") {\n",
        "        col <- 23\n",
        "    }\n",
        "    else{stop(\"invalid outcome\")}\n",
        "    sub<-subset(outcome_data,State==state)\n",
        "    minmort<-min(as.numeric(sub[,col]),na.rm = TRUE)\n",
        "    lowestmort<-subset(sub,as.numeric(sub[,col])==minmort)\n",
        "    output<-lowestmort[,\"Hospital.Name\"]\n",
        "    return(output[order(output)])\n",
        "}"
      ],
      "metadata": {
        "id": "EK7AFMxSz7FO"
      },
      "execution_count": 8,
      "outputs": []
    },
    {
      "cell_type": "code",
      "source": [
        "rankhospital <- function(state, outcome, num = \"best\") {\n",
        "    ## Read outcome data\n",
        "    ## Check that state and outcome are valid\n",
        "    ## Return hospital name in that state with the given rank\n",
        "    ## 30-day death rate\n",
        "    #Read the data\n",
        "    data <- read.csv(\"outcome-of-care-measures.csv\", colClasses = \"character\")\n",
        "    #Create a database for use\n",
        "    fd <- as.data.frame(cbind(data[, 2], #Hospital name\n",
        "                              data[, 7], #State\n",
        "                              data[, 11], #heart attack\n",
        "                              data[, 17], #heart failure\n",
        "                              data[, 23]), #Pneumonia\n",
        "                        stringsAsFactors = FALSE)\n",
        "    colnames(fd) <- c(\"hospital\", \"state\", \"heart attack\", \"heart failure\", \"pneumonia\")\n",
        "\n",
        "    #Check whether the state value is valid\n",
        "    if (!state %in% fd[, \"state\"]) {\n",
        "        stop(\"invalid state\")\n",
        "\n",
        "    } #Check whether the outcome is valid\n",
        "    else if (!outcome %in% c(\"heart attack\", \"pneumonia\", \"heart failure\")) {\n",
        "        stop(\"invalid outcome\")\n",
        "\n",
        "    } #Check whether the rank value is numeric\n",
        "\n",
        "    else if (is.numeric(num)) {\n",
        "        #Extract the data for the called state and outcome\n",
        "        si <- which(fd[, \"state\"] == state)\n",
        "        ts <- fd[si, ]\n",
        "        ts[, eval(outcome)] <- as.numeric(ts[, eval(outcome)])\n",
        "\n",
        "        #Sort the data frame\n",
        "        ts <- ts[order(ts[, eval(outcome)], ts[, \"hospital\"], na.last = NA),]\n",
        "        #Check whether the called rank exceeds the record number\n",
        "        output <- ts[, \"hospital\"][num]}\n",
        "\n",
        "    else if (!is.numeric(num)) {\n",
        "\n",
        "        if (num == \"best\") {\n",
        "            output <- best(state, outcome)}\n",
        "\n",
        "        else if (num == \"worst\") {\n",
        "            si <- which(fd[, \"state\"] == state)\n",
        "            ts <- fd[si, ]\n",
        "            ts[, eval(outcome)] <- as.numeric(ts[, eval(outcome)])\n",
        "            ts <- ts[order(ts[, eval(outcome)], ts[, \"hospital\"], na.last = NA, decreasing = TRUE), ]\n",
        "            output <- ts[, \"hospital\"][1]\n",
        "        }\n",
        "\n",
        "        else {\n",
        "            stop(\"invalid rank\")}\n",
        "    }\n",
        "    return (output)\n",
        "\n",
        "}"
      ],
      "metadata": {
        "id": "1k7dXoQX0JD4"
      },
      "execution_count": 9,
      "outputs": []
    },
    {
      "cell_type": "code",
      "source": [
        "rankall <- function(outcome, num = \"best\") {\n",
        "    #Load the data\n",
        "    data <- read.csv(\"outcome-of-care-measures.csv\",\n",
        "                     colClasses = \"character\")\n",
        "\n",
        "    #Check whether the outcome value is valid\n",
        "\n",
        "    if (!(outcome %in% c(\"heart attack\", \"heart failure\",\n",
        "                         \"pneumonia\"))){\n",
        "        stop (\"invalid outcome\")}\n",
        "    if (is.numeric(num) == TRUE) {\n",
        "        if (length(data[,2]) < num) {return(NA)}\n",
        "    }\n",
        "\n",
        "    colnum <-\n",
        "        if (outcome == \"heart failure\") {17}\n",
        "    else if (outcome == \"heart attack\") {11}\n",
        "    else {23}\n",
        "\n",
        "    data[, colnum] <- as.numeric(data[, colnum])\n",
        "    data[, 2] <- as.character(data[, 2])\n",
        "\n",
        "    #Create an empty vector\n",
        "    output <- vector()\n",
        "\n",
        "    #Get a complete list of states\n",
        "    states <- levels(factor(data[, 7]))\n",
        "\n",
        "    for (i in 1:length(states)) {\n",
        "        statedata <- subset(data, State == states[i])\n",
        "        selected_columns <- as.numeric(statedata[, colnum])\n",
        "        statedata <- statedata[!(is.na(selected_columns)), ]\n",
        "        orderdata <- statedata[order(statedata[, colnum],\n",
        "                                     statedata[, 2]), ]\n",
        "\n",
        "\n",
        "        if (num == \"best\") {\n",
        "            ranknum = 1\n",
        "        }else if (num == \"worst\") {\n",
        "            ranknum = nrow(orderdata)\n",
        "        }else {\n",
        "            ranknum = num\n",
        "        }\n",
        "        hospital <- orderdata[ranknum, 2]\n",
        "\n",
        "        output <- append(output, c(hospital, states[i]))}\n",
        "\n",
        "\n",
        "\n",
        "    #Convert the output from vector to data frame\n",
        "    output <- as.data.frame(matrix(output, length(states),\n",
        "                                   2, byrow = TRUE))\n",
        "    colnames(output) <- c(\"hospital\", \"state\")\n",
        "    rownames(output) <- states\n",
        "\n",
        "    return(output)\n",
        "}"
      ],
      "metadata": {
        "id": "gUhsff200TSs"
      },
      "execution_count": 10,
      "outputs": []
    },
    {
      "cell_type": "code",
      "source": [
        "best <- function(state, outcome) {\n",
        "    ## Read outcome data\n",
        "    ## Check that state and outcome are valid\n",
        "    ## Return hospital name in that state with lowest 30-day death\n",
        "    ## rate\n",
        "    outcome_data <- read.csv(\"outcome-of-care-measures.csv\", colClasses = \"character\")\n",
        "    if (!state %in% outcome_data$State)\n",
        "    {message(\"invalid state\")}\n",
        "    else if(outcome == \"heart attack\") {\n",
        "        col <- 11\n",
        "    }\n",
        "    else if (outcome == \"heart failure\") {\n",
        "        col <- 17\n",
        "    }\n",
        "    else if (outcome == \"pneumonia\") {\n",
        "        col <- 23\n",
        "    }\n",
        "    else{stop(\"invalid outcome\")}\n",
        "    sub<-subset(outcome_data,State==state)\n",
        "    minmort<-min(as.numeric(sub[,col]),na.rm = TRUE)\n",
        "    lowestmort<-subset(sub,as.numeric(sub[,col])==minmort)\n",
        "    output<-lowestmort[,\"Hospital.Name\"]\n",
        "    return(output[order(output)])\n",
        "}"
      ],
      "metadata": {
        "id": "KUEp9OBl0ZdH"
      },
      "execution_count": 11,
      "outputs": []
    },
    {
      "cell_type": "code",
      "source": [
        "hospital <- read.csv(\"https://github.com/shambhavimalik/Data-Science-Projects-using-R/blob/master/Hospital%20Quality%20Analysis/hospital-data.csv\")"
      ],
      "metadata": {
        "colab": {
          "base_uri": "https://localhost:8080/"
        },
        "id": "_j0qMamM0sPM",
        "outputId": "a17d9053-0ddf-4216-88bc-d5fca7f9de62"
      },
      "execution_count": 12,
      "outputs": [
        {
          "output_type": "stream",
          "name": "stderr",
          "text": [
            "Warning message in read.table(file = file, header = header, sep = sep, quote = quote, :\n",
            "“incomplete final line found by readTableHeader on 'https://github.com/shambhavimalik/Data-Science-Projects-using-R/blob/master/Hospital%20Quality%20Analysis/hospital-data.csv'”\n"
          ]
        }
      ]
    },
    {
      "cell_type": "code",
      "source": [
        "hospital"
      ],
      "metadata": {
        "colab": {
          "base_uri": "https://localhost:8080/",
          "height": 264
        },
        "id": "0ztJczrnIJej",
        "outputId": "b8998fb1-3143-4431-eb57-baed904a67b8"
      },
      "execution_count": 13,
      "outputs": [
        {
          "output_type": "stream",
          "name": "stderr",
          "text": [
            "Warning message in cbind(parts$left, chars$ellip_h, parts$right, deparse.level = 0L):\n",
            "“number of rows of result is not a multiple of vector length (arg 2)”\n",
            "Warning message in cbind(parts$left, chars$ellip_h, parts$right, deparse.level = 0L):\n",
            "“number of rows of result is not a multiple of vector length (arg 2)”\n",
            "Warning message in cbind(parts$left, chars$ellip_h, parts$right, deparse.level = 0L):\n",
            "“number of rows of result is not a multiple of vector length (arg 2)”\n",
            "Warning message in cbind(parts$left, chars$ellip_h, parts$right, deparse.level = 0L):\n",
            "“number of rows of result is not a multiple of vector length (arg 2)”\n"
          ]
        },
        {
          "output_type": "display_data",
          "data": {
            "text/html": [
              "<table class=\"dataframe\">\n",
              "<caption>A data.frame: 0 × 10096</caption>\n",
              "<thead>\n",
              "\t<tr><th scope=col>X.payload..allShortcutsEnabled.false</th><th scope=col>fileTree..Hospital.Quality.Analysis..items...name.Hospital.Quality.Analysis_files</th><th scope=col>path.Hospital.Quality.Analysis.Hospital.Quality.Analysis_files</th><th scope=col>contentType.directory.</th><th scope=col>X.name.Hospital.Quality.Analysis.Rmd</th><th scope=col>path.Hospital.Quality.Analysis.Hospital.Quality.Analysis.Rmd</th><th scope=col>contentType.file.</th><th scope=col>X.name.Hospital.Quality.Analysis.md</th><th scope=col>path.Hospital.Quality.Analysis.Hospital.Quality.Analysis.md</th><th scope=col>contentType.file..1</th><th scope=col>⋯</th><th scope=col>viewable.true</th><th scope=col>workflowRedirectUrl.null</th><th scope=col>symbols..timed_out.false</th><th scope=col>not_analyzed.true</th><th scope=col>symbols.....</th><th scope=col>copilotInfo.null</th><th scope=col>copilotAccessAllowed.false</th><th scope=col>csrf_tokens...shambhavimalik.Data.Science.Projects.using.R.branches..post._yAwD2ibPbwPaIbZlM6lvhp_DvOusyULI9XO07Qtnj87.tS0p585A1A9LjQNWXSfxWBz9zT2PIqBL2EHPow3oQ.</th><th scope=col>X.repos.preferences..post.Y6SFJSePnZ7gxrIEGkVoG5Q3Q4IB.aMkJHOStJM4zEvIfXuIKHMMKEzNKZGx0e6hlEg5nzWd1jre5N69.G80fg...</th><th scope=col>title.Data.Science.Projects.using.R.Hospital.Quality.Analysis.hospital.data.csv.at.master...shambhavimalik.Data.Science.Projects.using.R.</th></tr>\n",
              "\t<tr><th scope=col>&lt;lgl&gt;</th><th scope=col>&lt;lgl&gt;</th><th scope=col>&lt;lgl&gt;</th><th scope=col>&lt;lgl&gt;</th><th scope=col>&lt;lgl&gt;</th><th scope=col>&lt;lgl&gt;</th><th scope=col>&lt;lgl&gt;</th><th scope=col>&lt;lgl&gt;</th><th scope=col>&lt;lgl&gt;</th><th scope=col>&lt;lgl&gt;</th><th scope=col>⋯</th><th scope=col>&lt;lgl&gt;</th><th scope=col>&lt;lgl&gt;</th><th scope=col>&lt;lgl&gt;</th><th scope=col>&lt;lgl&gt;</th><th scope=col>&lt;lgl&gt;</th><th scope=col>&lt;lgl&gt;</th><th scope=col>&lt;lgl&gt;</th><th scope=col>&lt;lgl&gt;</th><th scope=col>&lt;lgl&gt;</th><th scope=col>&lt;lgl&gt;</th></tr>\n",
              "</thead>\n",
              "<tbody>\n",
              "</tbody>\n",
              "</table>\n"
            ],
            "text/markdown": "\nA data.frame: 0 × 10096\n\n| X.payload..allShortcutsEnabled.false &lt;lgl&gt; | fileTree..Hospital.Quality.Analysis..items...name.Hospital.Quality.Analysis_files &lt;lgl&gt; | path.Hospital.Quality.Analysis.Hospital.Quality.Analysis_files &lt;lgl&gt; | contentType.directory. &lt;lgl&gt; | X.name.Hospital.Quality.Analysis.Rmd &lt;lgl&gt; | path.Hospital.Quality.Analysis.Hospital.Quality.Analysis.Rmd &lt;lgl&gt; | contentType.file. &lt;lgl&gt; | X.name.Hospital.Quality.Analysis.md &lt;lgl&gt; | path.Hospital.Quality.Analysis.Hospital.Quality.Analysis.md &lt;lgl&gt; | contentType.file..1 &lt;lgl&gt; | ⋯ ⋯ | viewable.true &lt;lgl&gt; | workflowRedirectUrl.null &lt;lgl&gt; | symbols..timed_out.false &lt;lgl&gt; | not_analyzed.true &lt;lgl&gt; | symbols..... &lt;lgl&gt; | copilotInfo.null &lt;lgl&gt; | copilotAccessAllowed.false &lt;lgl&gt; | csrf_tokens...shambhavimalik.Data.Science.Projects.using.R.branches..post._yAwD2ibPbwPaIbZlM6lvhp_DvOusyULI9XO07Qtnj87.tS0p585A1A9LjQNWXSfxWBz9zT2PIqBL2EHPow3oQ. &lt;lgl&gt; | X.repos.preferences..post.Y6SFJSePnZ7gxrIEGkVoG5Q3Q4IB.aMkJHOStJM4zEvIfXuIKHMMKEzNKZGx0e6hlEg5nzWd1jre5N69.G80fg... &lt;lgl&gt; | title.Data.Science.Projects.using.R.Hospital.Quality.Analysis.hospital.data.csv.at.master...shambhavimalik.Data.Science.Projects.using.R. &lt;lgl&gt; |\n|---|---|---|---|---|---|---|---|---|---|---|---|---|---|---|---|---|---|---|---|---|\n\n",
            "text/latex": "A data.frame: 0 × 10096\n\\begin{tabular}{lllllllllllllllllllll}\n X.payload..allShortcutsEnabled.false & fileTree..Hospital.Quality.Analysis..items...name.Hospital.Quality.Analysis\\_files & path.Hospital.Quality.Analysis.Hospital.Quality.Analysis\\_files & contentType.directory. & X.name.Hospital.Quality.Analysis.Rmd & path.Hospital.Quality.Analysis.Hospital.Quality.Analysis.Rmd & contentType.file. & X.name.Hospital.Quality.Analysis.md & path.Hospital.Quality.Analysis.Hospital.Quality.Analysis.md & contentType.file..1 & ⋯ & viewable.true & workflowRedirectUrl.null & symbols..timed\\_out.false & not\\_analyzed.true & symbols..... & copilotInfo.null & copilotAccessAllowed.false & csrf\\_tokens...shambhavimalik.Data.Science.Projects.using.R.branches..post.\\_yAwD2ibPbwPaIbZlM6lvhp\\_DvOusyULI9XO07Qtnj87.tS0p585A1A9LjQNWXSfxWBz9zT2PIqBL2EHPow3oQ. & X.repos.preferences..post.Y6SFJSePnZ7gxrIEGkVoG5Q3Q4IB.aMkJHOStJM4zEvIfXuIKHMMKEzNKZGx0e6hlEg5nzWd1jre5N69.G80fg... & title.Data.Science.Projects.using.R.Hospital.Quality.Analysis.hospital.data.csv.at.master...shambhavimalik.Data.Science.Projects.using.R.\\\\\n <lgl> & <lgl> & <lgl> & <lgl> & <lgl> & <lgl> & <lgl> & <lgl> & <lgl> & <lgl> & ⋯ & <lgl> & <lgl> & <lgl> & <lgl> & <lgl> & <lgl> & <lgl> & <lgl> & <lgl> & <lgl>\\\\\n\\hline\n\\end{tabular}\n",
            "text/plain": [
              "     X.payload..allShortcutsEnabled.false\n",
              "     fileTree..Hospital.Quality.Analysis..items...name.Hospital.Quality.Analysis_files\n",
              "     path.Hospital.Quality.Analysis.Hospital.Quality.Analysis_files\n",
              "     contentType.directory. X.name.Hospital.Quality.Analysis.Rmd\n",
              "     path.Hospital.Quality.Analysis.Hospital.Quality.Analysis.Rmd\n",
              "     contentType.file. X.name.Hospital.Quality.Analysis.md\n",
              "     path.Hospital.Quality.Analysis.Hospital.Quality.Analysis.md\n",
              "     contentType.file..1 ⋯ viewable.true workflowRedirectUrl.null\n",
              "     symbols..timed_out.false not_analyzed.true symbols..... copilotInfo.null\n",
              "     copilotAccessAllowed.false\n",
              "     csrf_tokens...shambhavimalik.Data.Science.Projects.using.R.branches..post._yAwD2ibPbwPaIbZlM6lvhp_DvOusyULI9XO07Qtnj87.tS0p585A1A9LjQNWXSfxWBz9zT2PIqBL2EHPow3oQ.\n",
              "     X.repos.preferences..post.Y6SFJSePnZ7gxrIEGkVoG5Q3Q4IB.aMkJHOStJM4zEvIfXuIKHMMKEzNKZGx0e6hlEg5nzWd1jre5N69.G80fg...\n",
              "     title.Data.Science.Projects.using.R.Hospital.Quality.Analysis.hospital.data.csv.at.master...shambhavimalik.Data.Science.Projects.using.R."
            ]
          },
          "metadata": {}
        }
      ]
    },
    {
      "cell_type": "code",
      "source": [
        "rankall <- function(outcome, num = \"best\") {\n",
        "    #Load the data\n",
        "    data <- read.csv(\"outcome-of-care-measures.csv\",\n",
        "                     colClasses = \"character\")\n",
        "\n",
        "    #Check whether the outcome value is valid\n",
        "\n",
        "    if (!(outcome %in% c(\"heart attack\", \"heart failure\",\n",
        "                         \"pneumonia\"))){\n",
        "        stop (\"invalid outcome\")}\n",
        "    if (is.numeric(num) == TRUE) {\n",
        "        if (length(data[,2]) < num) {return(NA)}\n",
        "    }\n",
        "\n",
        "    colnum <-\n",
        "        if (outcome == \"heart failure\") {17}\n",
        "    else if (outcome == \"heart attack\") {11}\n",
        "    else {23}\n",
        "\n",
        "    data[, colnum] <- as.numeric(data[, colnum])\n",
        "    data[, 2] <- as.character(data[, 2])\n",
        "\n",
        "    #Create an empty vector\n",
        "    output <- vector()\n",
        "\n",
        "    #Get a complete list of states\n",
        "    states <- levels(factor(data[, 7]))\n",
        "\n",
        "    for (i in 1:length(states)) {\n",
        "        statedata <- subset(data, State == states[i])\n",
        "        selected_columns <- as.numeric(statedata[, colnum])\n",
        "        statedata <- statedata[!(is.na(selected_columns)), ]\n",
        "        orderdata <- statedata[order(statedata[, colnum],\n",
        "                                     statedata[, 2]), ]\n",
        "\n",
        "\n",
        "        if (num == \"best\") {\n",
        "            ranknum = 1\n",
        "        }else if (num == \"worst\") {\n",
        "            ranknum = nrow(orderdata)\n",
        "        }else {\n",
        "            ranknum = num\n",
        "        }\n",
        "        hospital <- orderdata[ranknum, 2]\n",
        "\n",
        "        output <- append(output, c(hospital, states[i]))}\n",
        "\n",
        "\n",
        "\n",
        "    #Convert the output from vector to data frame\n",
        "    output <- as.data.frame(matrix(output, length(states),\n",
        "                                   2, byrow = TRUE))\n",
        "    colnames(output) <- c(\"hospital\", \"state\")\n",
        "    rownames(output) <- states\n",
        "\n",
        "    return(output)\n",
        "}"
      ],
      "metadata": {
        "id": "Laod6jxaIQiy"
      },
      "execution_count": 14,
      "outputs": []
    },
    {
      "cell_type": "code",
      "source": [
        "rankhospital <- function(state, outcome, num = \"best\") {\n",
        "    ## Read outcome data\n",
        "    ## Check that state and outcome are valid\n",
        "    ## Return hospital name in that state with the given rank\n",
        "    ## 30-day death rate\n",
        "    #Read the data\n",
        "    data <- read.csv(\"outcome-of-care-measures.csv\", colClasses = \"character\")\n",
        "    #Create a database for use\n",
        "    fd <- as.data.frame(cbind(data[, 2], #Hospital name\n",
        "                              data[, 7], #State\n",
        "                              data[, 11], #heart attack\n",
        "                              data[, 17], #heart failure\n",
        "                              data[, 23]), #Pneumonia\n",
        "                        stringsAsFactors = FALSE)\n",
        "    colnames(fd) <- c(\"hospital\", \"state\", \"heart attack\", \"heart failure\", \"pneumonia\")\n",
        "\n",
        "    #Check whether the state value is valid\n",
        "    if (!state %in% fd[, \"state\"]) {\n",
        "        stop(\"invalid state\")\n",
        "\n",
        "    } #Check whether the outcome is valid\n",
        "    else if (!outcome %in% c(\"heart attack\", \"pneumonia\", \"heart failure\")) {\n",
        "        stop(\"invalid outcome\")\n",
        "\n",
        "    } #Check whether the rank value is numeric\n",
        "\n",
        "    else if (is.numeric(num)) {\n",
        "        #Extract the data for the called state and outcome\n",
        "        si <- which(fd[, \"state\"] == state)\n",
        "        ts <- fd[si, ]\n",
        "        ts[, eval(outcome)] <- as.numeric(ts[, eval(outcome)])\n",
        "\n",
        "        #Sort the data frame\n",
        "        ts <- ts[order(ts[, eval(outcome)], ts[, \"hospital\"], na.last = NA),]\n",
        "        #Check whether the called rank exceeds the record number\n",
        "        output <- ts[, \"hospital\"][num]}\n",
        "\n",
        "    else if (!is.numeric(num)) {\n",
        "\n",
        "        if (num == \"best\") {\n",
        "            output <- best(state, outcome)}\n",
        "\n",
        "        else if (num == \"worst\") {\n",
        "            si <- which(fd[, \"state\"] == state)\n",
        "            ts <- fd[si, ]\n",
        "            ts[, eval(outcome)] <- as.numeric(ts[, eval(outcome)])\n",
        "            ts <- ts[order(ts[, eval(outcome)], ts[, \"hospital\"], na.last = NA, decreasing = TRUE), ]\n",
        "            output <- ts[, \"hospital\"][1]\n",
        "        }\n",
        "\n",
        "        else {\n",
        "            stop(\"invalid rank\")}\n",
        "    }\n",
        "    return (output)\n",
        "\n",
        "}"
      ],
      "metadata": {
        "id": "DhXt5YixI8Lo"
      },
      "execution_count": 15,
      "outputs": []
    },
    {
      "cell_type": "code",
      "source": [],
      "metadata": {
        "id": "OkmnFlIeJHhe"
      },
      "execution_count": null,
      "outputs": []
    }
  ]
}